{
 "cells": [
  {
   "cell_type": "code",
   "execution_count": 1,
   "metadata": {},
   "outputs": [],
   "source": [
    "import pandas as pd\n",
    "import numpy as np\n",
    "from sklearn.preprocessing import LabelEncoder, RobustScaler, MinMaxScaler, StandardScaler\n",
    "from scipy.special import boxcox, boxcox1p\n",
    "import scipy.stats as ss\n",
    "import matplotlib.pyplot as plt\n",
    "import seaborn as sns\n",
    "from sklearn.linear_model import LogisticRegression\n",
    "from sklearn.model_selection import train_test_split\n",
    "from sklearn.metrics import accuracy_score\n",
    "from sklearn.model_selection import cross_val_score\n",
    "from xgboost import XGBClassifier"
   ]
  },
  {
   "cell_type": "code",
   "execution_count": 2,
   "metadata": {},
   "outputs": [
    {
     "name": "stdout",
     "output_type": "stream",
     "text": [
      "<class 'pandas.core.frame.DataFrame'>\n",
      "RangeIndex: 436 entries, 0 to 435\n",
      "Data columns (total 12 columns):\n",
      "ID       436 non-null object\n",
      "M/F      436 non-null object\n",
      "Hand     436 non-null object\n",
      "Age      436 non-null int64\n",
      "Educ     235 non-null float64\n",
      "SES      216 non-null float64\n",
      "MMSE     235 non-null float64\n",
      "CDR      235 non-null float64\n",
      "eTIV     436 non-null int64\n",
      "nWBV     436 non-null float64\n",
      "ASF      436 non-null float64\n",
      "Delay    20 non-null float64\n",
      "dtypes: float64(7), int64(2), object(3)\n",
      "memory usage: 41.0+ KB\n",
      "<class 'pandas.core.frame.DataFrame'>\n",
      "Int64Index: 216 entries, 0 to 415\n",
      "Data columns (total 11 columns):\n",
      "ID      216 non-null object\n",
      "M/F     216 non-null object\n",
      "Hand    216 non-null object\n",
      "Age     216 non-null int64\n",
      "Educ    216 non-null float64\n",
      "SES     216 non-null float64\n",
      "MMSE    216 non-null float64\n",
      "CDR     216 non-null float64\n",
      "eTIV    216 non-null int64\n",
      "nWBV    216 non-null float64\n",
      "ASF     216 non-null float64\n",
      "dtypes: float64(6), int64(2), object(3)\n",
      "memory usage: 20.2+ KB\n"
     ]
    }
   ],
   "source": [
    "alz_df = pd.read_csv(\"C:/Users/JT/Desktop/CU Boulder/mri-and-alzheimers/oasis_cross-sectional.csv\")\n",
    "alz_df.info()\n",
    "alz_df = alz_df.iloc[:,:-1]\n",
    "alz_df.dropna(axis='rows',inplace=True)\n",
    "alz_df.info()"
   ]
  },
  {
   "cell_type": "code",
   "execution_count": 3,
   "metadata": {},
   "outputs": [],
   "source": [
    "alz_df.drop(columns=['ID','Hand', 'ASF'], inplace=True)\n",
    "alz_df['M/F'] = alz_df['M/F'].astype('category')\n",
    "alz_df['Educ'] = alz_df['Educ'].astype('category')\n",
    "alz_df['SES'] = alz_df['SES'].astype('category')\n",
    "alz_df['CDR'] = alz_df['CDR'].astype('category')"
   ]
  },
  {
   "cell_type": "markdown",
   "metadata": {},
   "source": [
    "Above, I dropped ID and hand as ID is just the unique identifier and 'Hand' compries only of 1 unique value. Additionally, I dropped ASF as it is highly correlated with eTIV. This makes sense since ASF is the scaling factor used to normalize eTIV."
   ]
  },
  {
   "cell_type": "code",
   "execution_count": 4,
   "metadata": {},
   "outputs": [],
   "source": [
    "X = pd.DataFrame(alz_df[['M/F','Age', 'Educ','SES', 'MMSE','eTIV','nWBV']])\n",
    "y= pd.DataFrame(alz_df[['CDR']])\n",
    "X.drop('MMSE', inplace=True, axis='columns')\n",
    " "
   ]
  },
  {
   "cell_type": "code",
   "execution_count": 5,
   "metadata": {},
   "outputs": [
    {
     "data": {
      "image/png": "[encoded data removed]",
      "text/plain": [
       "<Figure size 720x720 with 4 Axes>"
      ]
     },
     "metadata": {
      "needs_background": "light"
     },
     "output_type": "display_data"
    }
   ],
   "source": [
    "X.hist(figsize=(10,10))\n",
    "plt.show()"
   ]
  },
  {
   "cell_type": "code",
   "execution_count": 6,
   "metadata": {},
   "outputs": [
    {
     "name": "stderr",
     "output_type": "stream",
     "text": [
      "C:\\Users\\JT\\Anaconda3\\lib\\site-packages\\sklearn\\preprocessing\\_label.py:251: DataConversionWarning: A column-vector y was passed when a 1d array was expected. Please change the shape of y to (n_samples, ), for example using ravel().\n",
      "  y = column_or_1d(y, warn=True)\n"
     ]
    },
    {
     "data": {
      "text/html": [
       "<div>\n",
       "<style scoped>\n",
       "    .dataframe tbody tr th:only-of-type {\n",
       "        vertical-align: middle;\n",
       "    }\n",
       "\n",
       "    .dataframe tbody tr th {\n",
       "        vertical-align: top;\n",
       "    }\n",
       "\n",
       "    .dataframe thead th {\n",
       "        text-align: right;\n",
       "    }\n",
       "</style>\n",
       "<table border=\"1\" class=\"dataframe\">\n",
       "  <thead>\n",
       "    <tr style=\"text-align: right;\">\n",
       "      <th></th>\n",
       "      <th>Age</th>\n",
       "      <th>eTIV</th>\n",
       "      <th>nWBV</th>\n",
       "      <th>M/F_F</th>\n",
       "      <th>M/F_M</th>\n",
       "      <th>Educ_1.0</th>\n",
       "      <th>Educ_2.0</th>\n",
       "      <th>Educ_3.0</th>\n",
       "      <th>Educ_4.0</th>\n",
       "      <th>Educ_5.0</th>\n",
       "      <th>SES_1.0</th>\n",
       "      <th>SES_2.0</th>\n",
       "      <th>SES_3.0</th>\n",
       "      <th>SES_4.0</th>\n",
       "      <th>SES_5.0</th>\n",
       "    </tr>\n",
       "  </thead>\n",
       "  <tbody>\n",
       "    <tr>\n",
       "      <th>0</th>\n",
       "      <td>74</td>\n",
       "      <td>1344</td>\n",
       "      <td>0.743</td>\n",
       "      <td>1</td>\n",
       "      <td>0</td>\n",
       "      <td>0</td>\n",
       "      <td>1</td>\n",
       "      <td>0</td>\n",
       "      <td>0</td>\n",
       "      <td>0</td>\n",
       "      <td>0</td>\n",
       "      <td>0</td>\n",
       "      <td>1</td>\n",
       "      <td>0</td>\n",
       "      <td>0</td>\n",
       "    </tr>\n",
       "    <tr>\n",
       "      <th>1</th>\n",
       "      <td>55</td>\n",
       "      <td>1147</td>\n",
       "      <td>0.810</td>\n",
       "      <td>1</td>\n",
       "      <td>0</td>\n",
       "      <td>0</td>\n",
       "      <td>0</td>\n",
       "      <td>0</td>\n",
       "      <td>1</td>\n",
       "      <td>0</td>\n",
       "      <td>1</td>\n",
       "      <td>0</td>\n",
       "      <td>0</td>\n",
       "      <td>0</td>\n",
       "      <td>0</td>\n",
       "    </tr>\n",
       "    <tr>\n",
       "      <th>2</th>\n",
       "      <td>73</td>\n",
       "      <td>1454</td>\n",
       "      <td>0.708</td>\n",
       "      <td>1</td>\n",
       "      <td>0</td>\n",
       "      <td>0</td>\n",
       "      <td>0</td>\n",
       "      <td>0</td>\n",
       "      <td>1</td>\n",
       "      <td>0</td>\n",
       "      <td>0</td>\n",
       "      <td>0</td>\n",
       "      <td>1</td>\n",
       "      <td>0</td>\n",
       "      <td>0</td>\n",
       "    </tr>\n",
       "    <tr>\n",
       "      <th>8</th>\n",
       "      <td>74</td>\n",
       "      <td>1636</td>\n",
       "      <td>0.689</td>\n",
       "      <td>0</td>\n",
       "      <td>1</td>\n",
       "      <td>0</td>\n",
       "      <td>0</td>\n",
       "      <td>0</td>\n",
       "      <td>0</td>\n",
       "      <td>1</td>\n",
       "      <td>0</td>\n",
       "      <td>1</td>\n",
       "      <td>0</td>\n",
       "      <td>0</td>\n",
       "      <td>0</td>\n",
       "    </tr>\n",
       "    <tr>\n",
       "      <th>9</th>\n",
       "      <td>52</td>\n",
       "      <td>1321</td>\n",
       "      <td>0.827</td>\n",
       "      <td>1</td>\n",
       "      <td>0</td>\n",
       "      <td>0</td>\n",
       "      <td>0</td>\n",
       "      <td>1</td>\n",
       "      <td>0</td>\n",
       "      <td>0</td>\n",
       "      <td>0</td>\n",
       "      <td>1</td>\n",
       "      <td>0</td>\n",
       "      <td>0</td>\n",
       "      <td>0</td>\n",
       "    </tr>\n",
       "  </tbody>\n",
       "</table>\n",
       "</div>"
      ],
      "text/plain": [
       "   Age  eTIV   nWBV  M/F_F  M/F_M  Educ_1.0  Educ_2.0  Educ_3.0  Educ_4.0  \\\n",
       "0   74  1344  0.743      1      0         0         1         0         0   \n",
       "1   55  1147  0.810      1      0         0         0         0         1   \n",
       "2   73  1454  0.708      1      0         0         0         0         1   \n",
       "8   74  1636  0.689      0      1         0         0         0         0   \n",
       "9   52  1321  0.827      1      0         0         0         1         0   \n",
       "\n",
       "   Educ_5.0  SES_1.0  SES_2.0  SES_3.0  SES_4.0  SES_5.0  \n",
       "0         0        0        0        1        0        0  \n",
       "1         0        1        0        0        0        0  \n",
       "2         0        0        0        1        0        0  \n",
       "8         1        0        1        0        0        0  \n",
       "9         0        0        1        0        0        0  "
      ]
     },
     "execution_count": 6,
     "metadata": {},
     "output_type": "execute_result"
    }
   ],
   "source": [
    "encoder = LabelEncoder()\n",
    "X = pd.get_dummies(X)\n",
    "y = encoder.fit_transform(y)\n",
    "X.head()"
   ]
  },
  {
   "cell_type": "code",
   "execution_count": 7,
   "metadata": {},
   "outputs": [
    {
     "name": "stderr",
     "output_type": "stream",
     "text": [
      "C:\\Users\\JT\\Anaconda3\\lib\\site-packages\\scipy\\stats\\stats.py:3508: PearsonRConstantInputWarning: An input array is constant; the correlation coefficent is not defined.\n",
      "  warnings.warn(PearsonRConstantInputWarning())\n",
      "C:\\Users\\JT\\Anaconda3\\lib\\site-packages\\scipy\\stats\\stats.py:3538: PearsonRNearConstantInputWarning: An input array is nearly constant; the computed correlation coefficent may be inaccurate.\n",
      "  warnings.warn(PearsonRNearConstantInputWarning())\n"
     ]
    }
   ],
   "source": [
    "#normalizing data\n",
    "for i in range(X.shape[1]):\n",
    "    boxcox1p(X.iloc[:,i], ss.boxcox_normmax(X.iloc[:,i]+1))\n",
    "\n",
    "\n",
    "\n",
    "scaler = RobustScaler()\n",
    "X = pd.DataFrame(scaler.fit_transform(X), columns=X.columns)"
   ]
  },
  {
   "cell_type": "code",
   "execution_count": 8,
   "metadata": {},
   "outputs": [
    {
     "data": {
      "image/png": "[encoded data removed]",
      "text/plain": [
       "<Figure size 1080x1080 with 16 Axes>"
      ]
     },
     "metadata": {
      "needs_background": "light"
     },
     "output_type": "display_data"
    }
   ],
   "source": [
    "X.hist(figsize=(15,15))\n",
    "plt.show()"
   ]
  },
  {
   "cell_type": "code",
   "execution_count": 40,
   "metadata": {},
   "outputs": [
    {
     "name": "stdout",
     "output_type": "stream",
     "text": [
      "Accuracy 0.7727272727272727\n",
      "Index(['Age', 'eTIV', 'nWBV', 'M/F_F', 'M/F_M', 'Educ_1.0', 'Educ_2.0',\n",
      "       'Educ_3.0', 'Educ_4.0', 'Educ_5.0', 'SES_1.0', 'SES_2.0', 'SES_3.0',\n",
      "       'SES_4.0', 'SES_5.0'],\n",
      "      dtype='object')\n",
      "[[ 0.         -0.06365848  1.30222659  0.          0.         -0.02732302\n",
      "   0.          0.          0.          0.63412323  0.          0.0627405\n",
      "   0.         -0.14108387  0.        ]\n",
      " [ 0.12870285  0.10545747  0.11301018 -0.16548219  0.16548219  0.\n",
      "  -0.04167921  0.01731009  0.          0.         -0.10405395  0.\n",
      "   0.45286606  0.          0.        ]\n",
      " [ 0.          0.         -0.8063228   0.23198894 -0.23198894  0.\n",
      "   0.49115162  0.          0.          0.          0.          0.\n",
      "  -0.28290329  0.          0.        ]\n",
      " [ 0.          0.         -0.38387784  0.          0.          0.\n",
      "   0.          0.          0.          0.          0.          0.\n",
      "   0.          0.          0.        ]]\n"
     ]
    }
   ],
   "source": [
    "X_train, X_test, y_train, y_test = train_test_split(X, y, test_size=0.2, random_state = 17)\n",
    "logreg = LogisticRegression(solver='saga', penalty='l1', max_iter=2000, multi_class='multinomial')\n",
    "#logreg = LogisticRegression(solver='lbfgs', penalty='l2', max_iter=2000, multi_class='multinomial')\n",
    "logreg.fit(X_train, y_train)\n",
    "y_pred = logreg.predict(X_test)\n",
    "\n",
    "print('Accuracy', accuracy_score(y_pred,y_test))\n",
    "print(X.columns)\n",
    "print(logreg.coef_)\n"
   ]
  },
  {
   "cell_type": "code",
   "execution_count": 26,
   "metadata": {},
   "outputs": [],
   "source": [
    "coefs_df = pd.DataFrame(logreg.coef_, columns=X.columns)\n",
    "coefs_df.index = ['CDR=0', 'CDR=0.5', 'CDR=1', 'CDR=2']\n",
    "coefs_df.to_csv(r'C:\\Users\\JT\\Desktop\\CU Boulder\\CSCI 5622\\Project\\Coefs_table.csv')"
   ]
  },
  {
   "cell_type": "code",
   "execution_count": 57,
   "metadata": {},
   "outputs": [
    {
     "data": {
      "text/plain": [
       "3.0    16\n",
       "4.0    15\n",
       "2.0    14\n",
       "1.0    11\n",
       "5.0     1\n",
       "Name: SES, dtype: int64"
      ]
     },
     "execution_count": 57,
     "metadata": {},
     "output_type": "execute_result"
    }
   ],
   "source": [
    "alz_df[alz_df['CDR']==0.5]['SES'].value_counts()"
   ]
  }
 ],
 "metadata": {
  "kernelspec": {
   "display_name": "Python 3",
   "language": "python",
   "name": "python3"
  },
  "language_info": {
   "codemirror_mode": {
    "name": "ipython",
    "version": 3
   },
   "file_extension": ".py",
   "mimetype": "text/x-python",
   "name": "python",
   "nbconvert_exporter": "python",
   "pygments_lexer": "ipython3",
   "version": "3.7.3"
  }
 },
 "nbformat": 4,
 "nbformat_minor": 4
}

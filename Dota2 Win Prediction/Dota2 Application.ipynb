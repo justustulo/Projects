{
 "cells": [
  {
   "cell_type": "markdown",
   "metadata": {},
   "source": [
    "### Dota2 Application\n",
    "\n",
    "This is a continuation of my other project, the Dota2 win predictor. Here I am going to do some light web scraping to gather some more data and incorporate a couple more features into an app that can give hero suggestions as well as the predict the winner of a match at a specific time."
   ]
  },
  {
   "cell_type": "code",
   "execution_count": 40,
   "metadata": {},
   "outputs": [],
   "source": [
    "import pandas as pd\n",
    "import numpy as np\n",
    "from selenium import webdriver\n",
    "from selenium.webdriver.chrome.options import Options\n",
    "from bs4 import BeautifulSoup\n",
    "import re\n",
    "from selenium.webdriver.support.ui import WebDriverWait\n",
    "import time \n",
    "import matplotlib.pyplot as plt\n",
    "\n",
    "#dependencies for class object that is being loaded\n",
    "import pandas as pd\n",
    "from pandas.api.types import is_numeric_dtype\n",
    "import scipy.stats as ss\n",
    "from scipy.special import boxcox1p  "
   ]
  },
  {
   "cell_type": "markdown",
   "metadata": {},
   "source": [
    "Opening chrome to the desired webpage."
   ]
  },
  {
   "cell_type": "code",
   "execution_count": 2,
   "metadata": {},
   "outputs": [],
   "source": [
    "options = Options()\n",
    "options.headless = True\n",
    "options.add_argument('--window-size=1920,1200')\n",
    "\n",
    "DRIVER_PATH = 'C:/Users/JT/Desktop/Data Science/chromedriver_win32/chromedriver.exe'\n",
    "driver = webdriver.Chrome(executable_path=DRIVER_PATH)\n",
    "driver.get('https://www.dotabuff.com/heroes')\n"
   ]
  },
  {
   "cell_type": "markdown",
   "metadata": {},
   "source": [
    "Here is where I will start scraping from the website to get the counters for each hero."
   ]
  },
  {
   "cell_type": "code",
   "execution_count": 3,
   "metadata": {},
   "outputs": [],
   "source": [
    "#get html from dotabuff website\n",
    "soup = BeautifulSoup(driver.page_source)\n",
    "\n",
    "#find all the hero names located on the page\n",
    "soup_heroes = soup.find_all('div', attrs = {'class':'name'})\n",
    "hero_names = []\n",
    "\n",
    "#extract the hero names from the soup\n",
    "for item in range(len(soup_heroes)):\n",
    "    hero_names.append(str(soup_heroes[item])[18:-6])\n",
    "\n",
    "#replace spaces with hyphens\n",
    "hero_names = [s.replace(\" \", \"-\") for s in hero_names]\n",
    "\n",
    "#replace apostrophe with nothing\n",
    "hero_names = [s.replace(\"'\", \"\") for s in hero_names]"
   ]
  },
  {
   "cell_type": "markdown",
   "metadata": {},
   "source": [
    "Navigating to the pages that contain hero counters."
   ]
  },
  {
   "cell_type": "code",
   "execution_count": 4,
   "metadata": {},
   "outputs": [],
   "source": [
    "counter_list = []\n",
    "\n",
    "#loop over all the hero names\n",
    "for hero in hero_names:    \n",
    "    #navigating to the page with the counter information\n",
    "    driver.get('https://www.dotabuff.com/heroes')\n",
    "    driver.find_element_by_xpath(\"//a[@href='/heroes/\"+hero.lower()+\"']\").click()\n",
    "    driver.find_element_by_xpath(\"//a[@href='/heroes/\"+hero.lower()+\"/counters']\").click()\n",
    "    time.sleep(5)\n",
    "    \n",
    "    #get the element for the disadvantage % against the hero\n",
    "    elements_disadvantage = driver.find_elements_by_class_name('sorted')\n",
    "    \n",
    "    #get element for the counter hero name\n",
    "    elements_hero = driver.find_elements_by_class_name('cell-icon')\n",
    "\n",
    "    for element in range(len(elements_hero)):\n",
    "        #loop through the element items to get the individual hero names and counter %\n",
    "        counter_hero = elements_hero[element].get_attribute('data-value') \n",
    "        disadvantage = elements_disadvantage[element+1].get_attribute('data-value') \n",
    "\n",
    "        \n",
    "        counter_list.append([hero, counter_hero, disadvantage])\n",
    "        \n",
    "#dataframe of counter \n",
    "counter_df = pd.DataFrame(counter_list, columns=['Hero', 'Counter', 'Disadvantage']).set_index(['Hero','Counter'])\n",
    "\n",
    "#Exit\n",
    "driver.quit()"
   ]
  },
  {
   "cell_type": "markdown",
   "metadata": {},
   "source": [
    "#### Interactive Application"
   ]
  },
  {
   "cell_type": "markdown",
   "metadata": {},
   "source": [
    "I'm going to make a custom class where all the needed functions for the interface will be."
   ]
  },
  {
   "cell_type": "code",
   "execution_count": 52,
   "metadata": {},
   "outputs": [],
   "source": [
    "class dota_app:\n",
    "     \n",
    "    def __init__(self):\n",
    "        from joblib import dump, load\n",
    "        import dill\n",
    "    \n",
    "        self.counter_df = counter_df #is this best/OK practice?\n",
    "        self.win_model = load('dota2_rfc.joblib')\n",
    "        self.scale_model = load('robust_scaler.joblib')\n",
    "        self.transform_model = None\n",
    "        \n",
    "\n",
    "        with open('boxcox_transform.pkl', 'rb') as in_strm:\n",
    "             self.transform_model = dill.load(in_strm)\n",
    "        \n",
    "            \n",
    "    def hero_counter(self, player1, player2='', player3='', player4='', player5=''):\n",
    "        num_players = 0\n",
    "        player_list = [player1, player2, player3, player4, player5]\n",
    "        counter_df_names = ['hero_counter1','hero_counter2','hero_counter3','hero_counter4','hero_counter5']\n",
    "        \n",
    "        #get the number of heroes entered\n",
    "        for item in player_list:\n",
    "            if item != '':\n",
    "                num_players +=1\n",
    "        \n",
    "        #create dictionary of dataframes that contain counters for each hero\n",
    "        counter_dict = {counter_df_names[i]:pd.DataFrame() for i in range(num_players)}        \n",
    "        \n",
    "        for j in range(num_players):\n",
    "            #get counters of the specified hero\n",
    "            counter_mask = self.counter_df.index.get_level_values(0) == player_list[j]\n",
    "            hero_counter_df = counter_dict['hero_counter'+str(j+1)] \n",
    "            hero_counter_df= self.counter_df[counter_mask]\n",
    "            hero_counter_df.reset_index(inplace=True)\n",
    "            \n",
    "            #append hero number to columns (used to distinguish columns after pd.concat later)\n",
    "            hero_counter_df.columns = hero_counter_df.columns+str(j+1) \n",
    "            hero_counter_df.set_index(['Hero'+str(j+1), 'Counter'+str(j+1)])        \n",
    "        \n",
    "            #putting the dataframe back in the dict\n",
    "            counter_dict['hero_counter'+str(j+1)] = hero_counter_df\n",
    "            \n",
    "        #concatenate each dataframe\n",
    "        all_counters = pd.DataFrame()\n",
    "\n",
    "        for value in counter_dict.values():\n",
    "            all_counters = pd.concat([all_counters, value], axis=1)\n",
    "\n",
    "        #sort the dataframes from best counter to worst counter\n",
    "        sort_cols = [col for col in all_counters if col.startswith('Disadv')]    \n",
    "        counter_cols = [col for col in all_counters if col.startswith('Counter')]\n",
    "        all_counters.sort_values(sort_cols)\n",
    "        \n",
    "        #change column names to be the hero that is being countered\n",
    "        all_counters = all_counters[counter_cols][:10]\n",
    "        all_counters.columns = player_list[:num_players]\n",
    "        all_counters.columns = all_counters.columns + ' Counters:'\n",
    "        \n",
    "        return all_counters\n",
    "\n",
    "    def win(self, rad_gold, rad_win_heroes, rad_level, rad_kills, rad_deaths,\n",
    "                                dire_gold, dire_win_heroes, dire_level, dire_kills, dire_deaths):\n",
    "        \n",
    "        #make variables in terms of radiant advantage\n",
    "        gold = float(rad_gold) - float(dire_gold)\n",
    "        win_heroes = float(rad_win_heroes) - float(dire_win_heroes)\n",
    "        level = float(rad_level) - float(dire_level)\n",
    "        deaths = float(rad_deaths) - float(dire_deaths)\n",
    "        kills = float(rad_kills) - float(dire_kills)\n",
    "        \n",
    "        input_array = np.array([gold, win_heroes, level, deaths, kills]).reshape(-1,5)\n",
    "        \n",
    "        input_df = pd.DataFrame(input_array)\n",
    "        \n",
    "        input_df = self.transform_model.positive_data(input_df)\n",
    "        input_df = self.transform_model.transform(input_df)\n",
    "        \n",
    "        input_df = self.scale_model.transform(input_df)\n",
    "        \n",
    "        \n",
    "        win_prediction = self.win_model.predict(input_df)\n",
    "        \n",
    "        if win_prediction == 1:\n",
    "            win_team = 'Radiant'\n",
    "        else:\n",
    "            win_team = 'Dire'\n",
    "        \n",
    "        return win_team\n",
    "    "
   ]
  },
  {
   "cell_type": "markdown",
   "metadata": {},
   "source": [
    "As seen in my other notebook, the amount of gold a team has is the most important predictor of who will win the game. Therefore, instead of looking at what the best counter would be for the entire team, it would be more important to look at the counter for your lane so you can get the most last hits (and therefore the most gold).\n",
    "\n",
    "Let's move on to making it interactive."
   ]
  },
  {
   "cell_type": "code",
   "execution_count": 14,
   "metadata": {},
   "outputs": [],
   "source": [
    "from tkinter import *\n",
    "from tkinter import ttk\n",
    "\n",
    "\n",
    "class dota_gui(Tk):\n",
    "    \n",
    "    def __init__(self, parent):\n",
    "        self.button_count1 = 0\n",
    "        self.button_count2 = 0\n",
    "        \n",
    "        self.parent = parent \n",
    "        \n",
    "        self.my_notebook = ttk.Notebook(self.parent)\n",
    "        self.my_notebook.pack()\n",
    "   \n",
    "        #make a frame for each tab\n",
    "        self.my_frame1 = Frame(self.my_notebook, width=500, height=300)\n",
    "        self.my_frame2 = Frame(self.my_notebook, width=500, height=300)\n",
    "\n",
    "        self.my_frame1.pack(fill='both', expand=1)\n",
    "        self.my_frame2.pack(fill='both', expand=1)\n",
    "\n",
    "        #add the frames to the notebook\n",
    "        self.my_notebook.add(self.my_frame1, text='Counter Picker')\n",
    "        self.my_notebook.add(self.my_frame2, text='Win Prediction')\n",
    "   \n",
    "        #add labels to tab 1\n",
    "        self.label1t1 = Label(self.my_frame1, text=\"Hero 1\").grid(row=0, column=0)\n",
    "        self.label2t1 = Label(self.my_frame1, text=\"Hero 2\").grid(row=1, column=0)\n",
    "        self.label3t1 = Label(self.my_frame1, text=\"Hero 3\").grid(row=2, column=0)\n",
    "        self.label4t1 = Label(self.my_frame1, text=\"Hero 4\").grid(row=3, column=0)\n",
    "        self.label5t1 = Label(self.my_frame1, text=\"Hero 5\").grid(row=4, column=0)\n",
    "        \n",
    "        #add entry boxes (cannot format simultaneously as values cannot be extracted)\n",
    "        self.entry1t1 = Entry(self.my_frame1, width=20)\n",
    "        self.entry2t1 = Entry(self.my_frame1, width=20)\n",
    "        self.entry3t1 = Entry(self.my_frame1, width=20)\n",
    "        self.entry4t1 = Entry(self.my_frame1, width=20)\n",
    "        self.entry5t1 = Entry(self.my_frame1, width=20)\n",
    "\n",
    "        #format the entry boxes\n",
    "        self.entry1t1.grid(row=0, column=1)\n",
    "        self.entry2t1.grid(row=1, column=1)\n",
    "        self.entry3t1.grid(row=2, column=1)\n",
    "        self.entry4t1.grid(row=3, column=1)\n",
    "        self.entry5t1.grid(row=4, column=1)\n",
    "        \n",
    "        self.button1 = Button(self.my_frame1, text='Get Hero Counters', command=self.click_fn1).grid(column=1)\n",
    "         \n",
    "        self.text = Text() \n",
    "        \n",
    "#----------------------------------------------------------------------------------------------------------------------------------------\n",
    "    ################ TAB 2 ##############\n",
    "    \n",
    "        self.label1t2 = Label(self.my_frame2, text=\"Please enter values for radiant and dire\").grid(row=0, column=0)\n",
    "        #self.label2t2 = Label(self.my_frame2, text=\"current time (format mm:ss)\").grid(row=1, column=0)\n",
    "        self.label3t2 = Label(self.my_frame2, text=\"Team gold\").grid(row=2, column=0)\n",
    "        self.label4t2 = Label(self.my_frame2, text=\"Average of Hero Win Rates (decimal)\").grid(row=3, column=0)\n",
    "        self.label5t2 = Label(self.my_frame2, text=\"Sum of Levels\").grid(row=4, column=0)\n",
    "        self.label6t2 = Label(self.my_frame2, text=\"Sum of Kills\").grid(row=5, column=0)\n",
    "        self.label6t2 = Label(self.my_frame2, text=\"Sum of Deaths\").grid(row=6, column=0)\n",
    "        \n",
    "        #Column Headers\n",
    "        self.label7t2 = Label(self.my_frame2, text=\"Radiant\").grid(row=0, column=1)\n",
    "        self.label8t2 = Label(self.my_frame2, text=\"Dire\").grid(row=0, column=2)\n",
    "           \n",
    "\n",
    "\n",
    "        #add entry boxes (cannot format simultaneously as values cannot be extracted)\n",
    "\n",
    "        #Radiant\n",
    "       # self.time_entry = Entry(self.my_frame2, width=20)\n",
    "        self.rad_gold_entry = Entry(self.my_frame2, width=20)\n",
    "        self.rad_win_entry = Entry(self.my_frame2, width=20)\n",
    "        self.rad_level_entry = Entry(self.my_frame2, width=20)\n",
    "        self.rad_kills_entry = Entry(self.my_frame2, width=20)\n",
    "        self.rad_deaths_entry = Entry(self.my_frame2,width=20)\n",
    "        \n",
    "        #self.time_entry.grid(row=1, column=1)\n",
    "        self.rad_gold_entry.grid(row=2, column=1)\n",
    "        self.rad_win_entry.grid(row=3, column=1)\n",
    "        self.rad_level_entry.grid(row=4, column=1)\n",
    "        self.rad_kills_entry.grid(row=5, column=1)\n",
    "        self.rad_deaths_entry.grid(row=6, column=1)\n",
    "\n",
    "        #Dire\n",
    "        #self.entry6t2 = Entry(self.my_frame2, width=20)\n",
    "        self.dire_gold_entry = Entry(self.my_frame2, width=20)\n",
    "        self.dire_win_entry = Entry(self.my_frame2, width=20)\n",
    "        self.dire_level_entry = Entry(self.my_frame2, width=20)\n",
    "        self.dire_kills_entry = Entry(self.my_frame2, width=20)\n",
    "        self.dire_deaths_entry = Entry(self.my_frame2,width=20)\n",
    "        \n",
    "        #self.entry6t2.grid(row=1, column=2)\n",
    "        self.dire_gold_entry.grid(row=2, column=2)\n",
    "        self.dire_win_entry.grid(row=3, column=2)\n",
    "        self.dire_level_entry.grid(row=4, column=2)\n",
    "        self.dire_kills_entry.grid(row=5, column=2)\n",
    "        self.dire_deaths_entry.grid(row=6, column=2)\n",
    "        \n",
    "        \n",
    "        self.button2 = Button(self.my_frame2, text='Get Win Prediction', command=self.click_fn2).grid(column=1)\n",
    "        self.text2 = Text() \n",
    "        \n",
    "        \n",
    "    def click_fn1(self):\n",
    "        self.text.pack()\n",
    "        \n",
    "        #if the button has been clicked: delete text, reset button count\n",
    "        if (self.button_count1 > 0) or (self.button_count2 > 0):\n",
    "            self.text.delete('0.0', END)\n",
    "            self.button_count1 = 0\n",
    "            self.button_count2 = 0\n",
    "            \n",
    "        #get values from the input boxes\n",
    "        hero1 = str(self.entry1t1.get())\n",
    "        hero2 = str(self.entry2t1.get())\n",
    "        hero3 = str(self.entry3t1.get())\n",
    "        hero4 = str(self.entry4t1.get())\n",
    "        hero5 = str(self.entry5t1.get())\n",
    "\n",
    "        #call custom function to get counter picks\n",
    "        dota = dota_app()\n",
    "        counters = dota.hero_counter(hero1,hero2,hero3,hero4,hero5)\n",
    "\n",
    "        #insert counters into page\n",
    "        self.text.insert(END, str(counters))\n",
    "    \n",
    "        self.button_count1+=1\n",
    "        \n",
    "    def click_fn2(self):\n",
    "        self.text2.pack()\n",
    "        \n",
    "         #if the button has been clicked: delete text, reset button count\n",
    "        if (self.button_count2 > 0) or (self.button_count1 > 0):\n",
    "            self.text2.delete('0.0', END)\n",
    "            self.button_count2 = 0\n",
    "            self.button_count1\n",
    "        \n",
    "        radiant_gold = self.rad_gold_entry.get()\n",
    "        radiant_win_heroes = self.rad_win_entry.get()\n",
    "        radiant_level = self.rad_level_entry.get()\n",
    "        radiant_deaths = self.rad_deaths_entry.get()\n",
    "        radiant_kills = self.rad_kills_entry.get()\n",
    "        \n",
    "        dire_gold = self.dire_kills_entry.get()\n",
    "        dire_win_heroes = self.dire_win_entry.get()\n",
    "        dire_level = self.dire_level_entry.get()\n",
    "        dire_deaths = self.dire_deaths_entry.get()\n",
    "        dire_kills = self.dire_kills_entry.get()\n",
    "        \n",
    "        #initialize class and get prediction\n",
    "        dota = dota_app()\n",
    "        winner = dota.win(radiant_gold, radiant_win_heroes, radiant_level, radiant_deaths, radiant_kills,\n",
    "                            dire_gold, dire_win_heroes, dire_level, dire_deaths, dire_kills)\n",
    "        \n",
    "        \n",
    "        self.text2.insert(END, str(winner))\n",
    "    \n",
    "        self.button_count2+=1\n",
    "        "
   ]
  },
  {
   "cell_type": "code",
   "execution_count": 39,
   "metadata": {},
   "outputs": [],
   "source": [
    "root = Tk()\n",
    "dota_gui(root)\n",
    "root.mainloop()"
   ]
  },
  {
   "cell_type": "markdown",
   "metadata": {},
   "source": [
    "Pictures of the app"
   ]
  },
  {
   "cell_type": "code",
   "execution_count": 49,
   "metadata": {},
   "outputs": [
    {
     "data": {
      "text/plain": [
       "<matplotlib.image.AxesImage at 0x1c4e594fa20>"
      ]
     },
     "execution_count": 49,
     "metadata": {},
     "output_type": "execute_result"
    },
    {
     "data": {
      "image/png": "[encoded data removed]",
      "text/plain": [
       "<Figure size 864x864 with 1 Axes>"
      ]
     },
     "metadata": {
      "needs_background": "light"
     },
     "output_type": "display_data"
    }
   ],
   "source": [
    "img1 = plt.imread('Hero Counters Snip.png')\n",
    "plt.figure(figsize=(12,12))\n",
    "plt.imshow(img1)"
   ]
  },
  {
   "cell_type": "code",
   "execution_count": 51,
   "metadata": {},
   "outputs": [
    {
     "data": {
      "text/plain": [
       "<matplotlib.image.AxesImage at 0x1c4ea24dc88>"
      ]
     },
     "execution_count": 51,
     "metadata": {},
     "output_type": "execute_result"
    },
    {
     "data": {
      "image/png": "[encoded data removed]",
      "text/plain": [
       "<Figure size 864x864 with 1 Axes>"
      ]
     },
     "metadata": {
      "needs_background": "light"
     },
     "output_type": "display_data"
    }
   ],
   "source": [
    "img2 = plt.imread('Win Prediction.png')\n",
    "plt.figure(figsize=(12,12))\n",
    "plt.imshow(img2)"
   ]
  }
 ],
 "metadata": {
  "kernelspec": {
   "display_name": "Python 3",
   "language": "python",
   "name": "python3"
  },
  "language_info": {
   "codemirror_mode": {
    "name": "ipython",
    "version": 3
   },
   "file_extension": ".py",
   "mimetype": "text/x-python",
   "name": "python",
   "nbconvert_exporter": "python",
   "pygments_lexer": "ipython3",
   "version": "3.7.3"
  }
 },
 "nbformat": 4,
 "nbformat_minor": 4
}

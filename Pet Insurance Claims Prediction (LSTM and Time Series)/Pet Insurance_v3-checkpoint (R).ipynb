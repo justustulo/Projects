{
 "cells": [
  {
   "cell_type": "markdown",
   "metadata": {},
   "source": [
    "# Introduction\n",
    "\n",
    "While searching for a dataset I found it extremely difficult to find any granular data on claims. CMS (Center for Medicare/Medicaid Services) offers a decent amount of data, however, it is not at a granular enough level to do useful time series analysis. I found this dataset via Kaggle's dataset search and although it is pet insurance, I am interested in the application in the broader healthcare space. I am going to compare some time series model as well as a deep learning method, Long Short Term Memory (LSTM). The \"traditional\" time series approached will be executed in R while the deep learning will be executed in Python in a separate notebook."
   ]
  },
  {
   "cell_type": "code",
   "execution_count": 1,
   "metadata": {},
   "outputs": [],
   "source": [
    "#install.packages(\"prophet\")\n",
    "#library(prophet)"
   ]
  },
  {
   "cell_type": "code",
   "execution_count": 2,
   "metadata": {},
   "outputs": [
    {
     "name": "stderr",
     "output_type": "stream",
     "text": [
      "Warning message:\n",
      "\"package 'lubridate' was built under R version 3.6.3\"\n",
      "\n",
      "Attaching package: 'lubridate'\n",
      "\n",
      "\n",
      "The following objects are masked from 'package:base':\n",
      "\n",
      "    date, intersect, setdiff, union\n",
      "\n",
      "\n",
      "Warning message:\n",
      "\"package 'dplyr' was built under R version 3.6.3\"\n",
      "\n",
      "Attaching package: 'dplyr'\n",
      "\n",
      "\n",
      "The following objects are masked from 'package:stats':\n",
      "\n",
      "    filter, lag\n",
      "\n",
      "\n",
      "The following objects are masked from 'package:base':\n",
      "\n",
      "    intersect, setdiff, setequal, union\n",
      "\n",
      "\n",
      "Warning message:\n",
      "\"package 'ggplot2' was built under R version 3.6.3\"\n",
      "Warning message:\n",
      "\"package 'xts' was built under R version 3.6.3\"\n",
      "Loading required package: zoo\n",
      "\n",
      "Warning message:\n",
      "\"package 'zoo' was built under R version 3.6.3\"\n",
      "\n",
      "Attaching package: 'zoo'\n",
      "\n",
      "\n",
      "The following objects are masked from 'package:base':\n",
      "\n",
      "    as.Date, as.Date.numeric\n",
      "\n",
      "\n",
      "\n",
      "Attaching package: 'xts'\n",
      "\n",
      "\n",
      "The following objects are masked from 'package:dplyr':\n",
      "\n",
      "    first, last\n",
      "\n",
      "\n",
      "Warning message:\n",
      "\"package 'tidyquant' was built under R version 3.6.3\"\n",
      "Loading required package: PerformanceAnalytics\n",
      "\n",
      "Warning message:\n",
      "\"package 'PerformanceAnalytics' was built under R version 3.6.3\"\n",
      "\n",
      "Attaching package: 'PerformanceAnalytics'\n",
      "\n",
      "\n",
      "The following object is masked from 'package:graphics':\n",
      "\n",
      "    legend\n",
      "\n",
      "\n",
      "Loading required package: quantmod\n",
      "\n",
      "Warning message:\n",
      "\"package 'quantmod' was built under R version 3.6.3\"\n",
      "Loading required package: TTR\n",
      "\n",
      "Warning message:\n",
      "\"package 'TTR' was built under R version 3.6.3\"\n",
      "Registered S3 method overwritten by 'quantmod':\n",
      "  method            from\n",
      "  as.zoo.data.frame zoo \n",
      "\n",
      "Version 0.4-0 included new data defaults. See ?getSymbols.\n",
      "\n",
      "\u001b[30m==\u001b[39m \u001b[30mNeed to Learn tidyquant?\u001b[39m \u001b[30m====================================================\u001b[39m\u001b[34m\n",
      "Business Science offers a 1-hour course - Learning Lab #9: Performance Analysis & Portfolio Optimization with tidyquant!\n",
      "\u001b[39m\u001b[34m</> Learn more at: https://university.business-science.io/p/learning-labs-pro </>\u001b[39m\n",
      "\n",
      "Warning message:\n",
      "\"package 'forecast' was built under R version 3.6.3\"\n",
      "Warning message:\n",
      "\"package 'tseries' was built under R version 3.6.3\"\n",
      "Warning message:\n",
      "\"package 'tsbox' was built under R version 3.6.3\"\n",
      "Warning message:\n",
      "\"package 'prophet' was built under R version 3.6.3\"\n",
      "Loading required package: Rcpp\n",
      "\n",
      "Loading required package: rlang\n",
      "\n",
      "Warning message:\n",
      "\"package 'rlang' was built under R version 3.6.3\"\n"
     ]
    },
    {
     "name": "stdout",
     "output_type": "stream",
     "text": [
      "[1] \"Done\"\n"
     ]
    }
   ],
   "source": [
    "library(lubridate)\n",
    "library(dplyr)\n",
    "library(ggplot2)\n",
    "library(xts)\n",
    "library(tidyquant)\n",
    "library(zoo)\n",
    "library(forecast)\n",
    "library(tseries)\n",
    "library(tsbox)\n",
    "library(prophet)\n",
    "print(\"Done\")"
   ]
  },
  {
   "cell_type": "code",
   "execution_count": 3,
   "metadata": {},
   "outputs": [],
   "source": [
    "pet_df = read.csv('E:\\\\Data Science\\\\Pet Insurance\\\\petdata.csv')\n",
    "claims_df = read.csv('E:\\\\Data Science\\\\Pet Insurance\\\\claimdata.csv')"
   ]
  },
  {
   "cell_type": "markdown",
   "metadata": {},
   "source": [
    "Inspecting the dataframes to see what we're working with"
   ]
  },
  {
   "cell_type": "code",
   "execution_count": 4,
   "metadata": {},
   "outputs": [
    {
     "data": {
      "text/html": [
       "<table>\n",
       "<caption>A data.frame: 6 × 6</caption>\n",
       "<thead>\n",
       "\t<tr><th></th><th scope=col>PetId</th><th scope=col>EnrollDate</th><th scope=col>CancelDate</th><th scope=col>Species</th><th scope=col>Breed</th><th scope=col>AgeAtEnroll</th></tr>\n",
       "\t<tr><th></th><th scope=col>&lt;int&gt;</th><th scope=col>&lt;fct&gt;</th><th scope=col>&lt;fct&gt;</th><th scope=col>&lt;fct&gt;</th><th scope=col>&lt;fct&gt;</th><th scope=col>&lt;fct&gt;</th></tr>\n",
       "</thead>\n",
       "<tbody>\n",
       "\t<tr><th scope=row>1</th><td>0</td><td>2015-08-11</td><td>2018-07-13</td><td>Dog</td><td>Mixed Breed   </td><td>5 years old             </td></tr>\n",
       "\t<tr><th scope=row>2</th><td>1</td><td>2014-02-15</td><td>2016-01-25</td><td>Cat</td><td>Mixed Breed   </td><td>3 years old             </td></tr>\n",
       "\t<tr><th scope=row>3</th><td>2</td><td>2014-12-20</td><td>          </td><td>Dog</td><td>French Bulldog</td><td>8 weeks to 12 months old</td></tr>\n",
       "\t<tr><th scope=row>4</th><td>3</td><td>2015-01-09</td><td>2015-01-14</td><td>Dog</td><td>Mixed Breed   </td><td>1 year old              </td></tr>\n",
       "\t<tr><th scope=row>5</th><td>4</td><td>2014-07-20</td><td>          </td><td>Cat</td><td>Mixed Breed   </td><td>8 weeks to 12 months old</td></tr>\n",
       "\t<tr><th scope=row>6</th><td>5</td><td>2011-09-02</td><td>2014-05-07</td><td>Dog</td><td>Chihuahua     </td><td>8 weeks to 12 months old</td></tr>\n",
       "</tbody>\n",
       "</table>\n"
      ],
      "text/latex": [
       "A data.frame: 6 × 6\n",
       "\\begin{tabular}{r|llllll}\n",
       "  & PetId & EnrollDate & CancelDate & Species & Breed & AgeAtEnroll\\\\\n",
       "  & <int> & <fct> & <fct> & <fct> & <fct> & <fct>\\\\\n",
       "\\hline\n",
       "\t1 & 0 & 2015-08-11 & 2018-07-13 & Dog & Mixed Breed    & 5 years old             \\\\\n",
       "\t2 & 1 & 2014-02-15 & 2016-01-25 & Cat & Mixed Breed    & 3 years old             \\\\\n",
       "\t3 & 2 & 2014-12-20 &            & Dog & French Bulldog & 8 weeks to 12 months old\\\\\n",
       "\t4 & 3 & 2015-01-09 & 2015-01-14 & Dog & Mixed Breed    & 1 year old              \\\\\n",
       "\t5 & 4 & 2014-07-20 &            & Cat & Mixed Breed    & 8 weeks to 12 months old\\\\\n",
       "\t6 & 5 & 2011-09-02 & 2014-05-07 & Dog & Chihuahua      & 8 weeks to 12 months old\\\\\n",
       "\\end{tabular}\n"
      ],
      "text/markdown": [
       "\n",
       "A data.frame: 6 × 6\n",
       "\n",
       "| <!--/--> | PetId &lt;int&gt; | EnrollDate &lt;fct&gt; | CancelDate &lt;fct&gt; | Species &lt;fct&gt; | Breed &lt;fct&gt; | AgeAtEnroll &lt;fct&gt; |\n",
       "|---|---|---|---|---|---|---|\n",
       "| 1 | 0 | 2015-08-11 | 2018-07-13 | Dog | Mixed Breed    | 5 years old              |\n",
       "| 2 | 1 | 2014-02-15 | 2016-01-25 | Cat | Mixed Breed    | 3 years old              |\n",
       "| 3 | 2 | 2014-12-20 | <!----> | Dog | French Bulldog | 8 weeks to 12 months old |\n",
       "| 4 | 3 | 2015-01-09 | 2015-01-14 | Dog | Mixed Breed    | 1 year old               |\n",
       "| 5 | 4 | 2014-07-20 | <!----> | Cat | Mixed Breed    | 8 weeks to 12 months old |\n",
       "| 6 | 5 | 2011-09-02 | 2014-05-07 | Dog | Chihuahua      | 8 weeks to 12 months old |\n",
       "\n"
      ],
      "text/plain": [
       "  PetId EnrollDate CancelDate Species Breed          AgeAtEnroll             \n",
       "1 0     2015-08-11 2018-07-13 Dog     Mixed Breed    5 years old             \n",
       "2 1     2014-02-15 2016-01-25 Cat     Mixed Breed    3 years old             \n",
       "3 2     2014-12-20            Dog     French Bulldog 8 weeks to 12 months old\n",
       "4 3     2015-01-09 2015-01-14 Dog     Mixed Breed    1 year old              \n",
       "5 4     2014-07-20            Cat     Mixed Breed    8 weeks to 12 months old\n",
       "6 5     2011-09-02 2014-05-07 Dog     Chihuahua      8 weeks to 12 months old"
      ]
     },
     "metadata": {},
     "output_type": "display_data"
    },
    {
     "data": {
      "text/html": [
       "<table>\n",
       "<caption>A data.frame: 6 × 4</caption>\n",
       "<thead>\n",
       "\t<tr><th></th><th scope=col>ClaimId</th><th scope=col>PetId</th><th scope=col>ClaimDate</th><th scope=col>ClaimAmount</th></tr>\n",
       "\t<tr><th></th><th scope=col>&lt;int&gt;</th><th scope=col>&lt;int&gt;</th><th scope=col>&lt;fct&gt;</th><th scope=col>&lt;dbl&gt;</th></tr>\n",
       "</thead>\n",
       "<tbody>\n",
       "\t<tr><th scope=row>1</th><td>0</td><td>9273</td><td>2014-02-25</td><td> 389.65</td></tr>\n",
       "\t<tr><th scope=row>2</th><td>1</td><td>1988</td><td>2014-03-10</td><td> 455.40</td></tr>\n",
       "\t<tr><th scope=row>3</th><td>2</td><td>2452</td><td>2014-04-02</td><td>1953.79</td></tr>\n",
       "\t<tr><th scope=row>4</th><td>3</td><td>3658</td><td>2014-04-05</td><td> 243.74</td></tr>\n",
       "\t<tr><th scope=row>5</th><td>5</td><td>9147</td><td>2014-03-18</td><td> 206.42</td></tr>\n",
       "\t<tr><th scope=row>6</th><td>6</td><td> 270</td><td>2014-04-02</td><td> 183.06</td></tr>\n",
       "</tbody>\n",
       "</table>\n"
      ],
      "text/latex": [
       "A data.frame: 6 × 4\n",
       "\\begin{tabular}{r|llll}\n",
       "  & ClaimId & PetId & ClaimDate & ClaimAmount\\\\\n",
       "  & <int> & <int> & <fct> & <dbl>\\\\\n",
       "\\hline\n",
       "\t1 & 0 & 9273 & 2014-02-25 &  389.65\\\\\n",
       "\t2 & 1 & 1988 & 2014-03-10 &  455.40\\\\\n",
       "\t3 & 2 & 2452 & 2014-04-02 & 1953.79\\\\\n",
       "\t4 & 3 & 3658 & 2014-04-05 &  243.74\\\\\n",
       "\t5 & 5 & 9147 & 2014-03-18 &  206.42\\\\\n",
       "\t6 & 6 &  270 & 2014-04-02 &  183.06\\\\\n",
       "\\end{tabular}\n"
      ],
      "text/markdown": [
       "\n",
       "A data.frame: 6 × 4\n",
       "\n",
       "| <!--/--> | ClaimId &lt;int&gt; | PetId &lt;int&gt; | ClaimDate &lt;fct&gt; | ClaimAmount &lt;dbl&gt; |\n",
       "|---|---|---|---|---|\n",
       "| 1 | 0 | 9273 | 2014-02-25 |  389.65 |\n",
       "| 2 | 1 | 1988 | 2014-03-10 |  455.40 |\n",
       "| 3 | 2 | 2452 | 2014-04-02 | 1953.79 |\n",
       "| 4 | 3 | 3658 | 2014-04-05 |  243.74 |\n",
       "| 5 | 5 | 9147 | 2014-03-18 |  206.42 |\n",
       "| 6 | 6 |  270 | 2014-04-02 |  183.06 |\n",
       "\n"
      ],
      "text/plain": [
       "  ClaimId PetId ClaimDate  ClaimAmount\n",
       "1 0       9273  2014-02-25  389.65    \n",
       "2 1       1988  2014-03-10  455.40    \n",
       "3 2       2452  2014-04-02 1953.79    \n",
       "4 3       3658  2014-04-05  243.74    \n",
       "5 5       9147  2014-03-18  206.42    \n",
       "6 6        270  2014-04-02  183.06    "
      ]
     },
     "metadata": {},
     "output_type": "display_data"
    }
   ],
   "source": [
    "head(pet_df)\n",
    "head(claims_df)"
   ]
  },
  {
   "cell_type": "code",
   "execution_count": 5,
   "metadata": {},
   "outputs": [
    {
     "data": {
      "text/html": [
       "<table>\n",
       "<caption>A data.frame: 6 × 9</caption>\n",
       "<thead>\n",
       "\t<tr><th></th><th scope=col>PetId</th><th scope=col>EnrollDate</th><th scope=col>CancelDate</th><th scope=col>Species</th><th scope=col>Breed</th><th scope=col>AgeAtEnroll</th><th scope=col>ClaimId</th><th scope=col>ClaimDate</th><th scope=col>ClaimAmount</th></tr>\n",
       "\t<tr><th></th><th scope=col>&lt;int&gt;</th><th scope=col>&lt;fct&gt;</th><th scope=col>&lt;fct&gt;</th><th scope=col>&lt;fct&gt;</th><th scope=col>&lt;fct&gt;</th><th scope=col>&lt;fct&gt;</th><th scope=col>&lt;int&gt;</th><th scope=col>&lt;fct&gt;</th><th scope=col>&lt;dbl&gt;</th></tr>\n",
       "</thead>\n",
       "<tbody>\n",
       "\t<tr><th scope=row>1</th><td>0</td><td>2015-08-11</td><td>2018-07-13</td><td>Dog</td><td>Mixed Breed   </td><td>5 years old             </td><td>   NA</td><td>NA        </td><td>    NA</td></tr>\n",
       "\t<tr><th scope=row>2</th><td>1</td><td>2014-02-15</td><td>2016-01-25</td><td>Cat</td><td>Mixed Breed   </td><td>3 years old             </td><td>   NA</td><td>NA        </td><td>    NA</td></tr>\n",
       "\t<tr><th scope=row>3</th><td>2</td><td>2014-12-20</td><td>          </td><td>Dog</td><td>French Bulldog</td><td>8 weeks to 12 months old</td><td>26643</td><td>2018-11-16</td><td>186.76</td></tr>\n",
       "\t<tr><th scope=row>4</th><td>2</td><td>2014-12-20</td><td>          </td><td>Dog</td><td>French Bulldog</td><td>8 weeks to 12 months old</td><td>27391</td><td>2018-06-15</td><td>162.01</td></tr>\n",
       "\t<tr><th scope=row>5</th><td>2</td><td>2014-12-20</td><td>          </td><td>Dog</td><td>French Bulldog</td><td>8 weeks to 12 months old</td><td> 7633</td><td>2018-02-14</td><td> 82.80</td></tr>\n",
       "\t<tr><th scope=row>6</th><td>2</td><td>2014-12-20</td><td>          </td><td>Dog</td><td>French Bulldog</td><td>8 weeks to 12 months old</td><td>35613</td><td>2017-12-05</td><td>567.32</td></tr>\n",
       "</tbody>\n",
       "</table>\n"
      ],
      "text/latex": [
       "A data.frame: 6 × 9\n",
       "\\begin{tabular}{r|lllllllll}\n",
       "  & PetId & EnrollDate & CancelDate & Species & Breed & AgeAtEnroll & ClaimId & ClaimDate & ClaimAmount\\\\\n",
       "  & <int> & <fct> & <fct> & <fct> & <fct> & <fct> & <int> & <fct> & <dbl>\\\\\n",
       "\\hline\n",
       "\t1 & 0 & 2015-08-11 & 2018-07-13 & Dog & Mixed Breed    & 5 years old              &    NA & NA         &     NA\\\\\n",
       "\t2 & 1 & 2014-02-15 & 2016-01-25 & Cat & Mixed Breed    & 3 years old              &    NA & NA         &     NA\\\\\n",
       "\t3 & 2 & 2014-12-20 &            & Dog & French Bulldog & 8 weeks to 12 months old & 26643 & 2018-11-16 & 186.76\\\\\n",
       "\t4 & 2 & 2014-12-20 &            & Dog & French Bulldog & 8 weeks to 12 months old & 27391 & 2018-06-15 & 162.01\\\\\n",
       "\t5 & 2 & 2014-12-20 &            & Dog & French Bulldog & 8 weeks to 12 months old &  7633 & 2018-02-14 &  82.80\\\\\n",
       "\t6 & 2 & 2014-12-20 &            & Dog & French Bulldog & 8 weeks to 12 months old & 35613 & 2017-12-05 & 567.32\\\\\n",
       "\\end{tabular}\n"
      ],
      "text/markdown": [
       "\n",
       "A data.frame: 6 × 9\n",
       "\n",
       "| <!--/--> | PetId &lt;int&gt; | EnrollDate &lt;fct&gt; | CancelDate &lt;fct&gt; | Species &lt;fct&gt; | Breed &lt;fct&gt; | AgeAtEnroll &lt;fct&gt; | ClaimId &lt;int&gt; | ClaimDate &lt;fct&gt; | ClaimAmount &lt;dbl&gt; |\n",
       "|---|---|---|---|---|---|---|---|---|---|\n",
       "| 1 | 0 | 2015-08-11 | 2018-07-13 | Dog | Mixed Breed    | 5 years old              |    NA | NA         |     NA |\n",
       "| 2 | 1 | 2014-02-15 | 2016-01-25 | Cat | Mixed Breed    | 3 years old              |    NA | NA         |     NA |\n",
       "| 3 | 2 | 2014-12-20 | <!----> | Dog | French Bulldog | 8 weeks to 12 months old | 26643 | 2018-11-16 | 186.76 |\n",
       "| 4 | 2 | 2014-12-20 | <!----> | Dog | French Bulldog | 8 weeks to 12 months old | 27391 | 2018-06-15 | 162.01 |\n",
       "| 5 | 2 | 2014-12-20 | <!----> | Dog | French Bulldog | 8 weeks to 12 months old |  7633 | 2018-02-14 |  82.80 |\n",
       "| 6 | 2 | 2014-12-20 | <!----> | Dog | French Bulldog | 8 weeks to 12 months old | 35613 | 2017-12-05 | 567.32 |\n",
       "\n"
      ],
      "text/plain": [
       "  PetId EnrollDate CancelDate Species Breed          AgeAtEnroll             \n",
       "1 0     2015-08-11 2018-07-13 Dog     Mixed Breed    5 years old             \n",
       "2 1     2014-02-15 2016-01-25 Cat     Mixed Breed    3 years old             \n",
       "3 2     2014-12-20            Dog     French Bulldog 8 weeks to 12 months old\n",
       "4 2     2014-12-20            Dog     French Bulldog 8 weeks to 12 months old\n",
       "5 2     2014-12-20            Dog     French Bulldog 8 weeks to 12 months old\n",
       "6 2     2014-12-20            Dog     French Bulldog 8 weeks to 12 months old\n",
       "  ClaimId ClaimDate  ClaimAmount\n",
       "1    NA   NA             NA     \n",
       "2    NA   NA             NA     \n",
       "3 26643   2018-11-16 186.76     \n",
       "4 27391   2018-06-15 162.01     \n",
       "5  7633   2018-02-14  82.80     \n",
       "6 35613   2017-12-05 567.32     "
      ]
     },
     "metadata": {},
     "output_type": "display_data"
    }
   ],
   "source": [
    "#joining the datasets so the information is all in one dataframe\n",
    "insurance_df = merge(pet_df, claims_df, by = \"PetId\", all = TRUE)\n",
    "head(insurance_df)"
   ]
  },
  {
   "cell_type": "code",
   "execution_count": 6,
   "metadata": {},
   "outputs": [
    {
     "data": {
      "text/html": [
       "<table>\n",
       "<caption>A data.frame: 6 × 9</caption>\n",
       "<thead>\n",
       "\t<tr><th></th><th scope=col>PetId</th><th scope=col>EnrollDate</th><th scope=col>CancelDate</th><th scope=col>Species</th><th scope=col>Breed</th><th scope=col>AgeAtEnroll</th><th scope=col>ClaimId</th><th scope=col>ClaimDate</th><th scope=col>ClaimAmount</th></tr>\n",
       "\t<tr><th></th><th scope=col>&lt;int&gt;</th><th scope=col>&lt;fct&gt;</th><th scope=col>&lt;fct&gt;</th><th scope=col>&lt;fct&gt;</th><th scope=col>&lt;fct&gt;</th><th scope=col>&lt;fct&gt;</th><th scope=col>&lt;int&gt;</th><th scope=col>&lt;fct&gt;</th><th scope=col>&lt;dbl&gt;</th></tr>\n",
       "</thead>\n",
       "<tbody>\n",
       "\t<tr><th scope=row>1</th><td>2</td><td>2014-12-20</td><td></td><td>Dog</td><td>French Bulldog</td><td>8 weeks to 12 months old</td><td>26643</td><td>2018-11-16</td><td>186.76</td></tr>\n",
       "\t<tr><th scope=row>2</th><td>2</td><td>2014-12-20</td><td></td><td>Dog</td><td>French Bulldog</td><td>8 weeks to 12 months old</td><td>27391</td><td>2018-06-15</td><td>162.01</td></tr>\n",
       "\t<tr><th scope=row>3</th><td>2</td><td>2014-12-20</td><td></td><td>Dog</td><td>French Bulldog</td><td>8 weeks to 12 months old</td><td> 7633</td><td>2018-02-14</td><td> 82.80</td></tr>\n",
       "\t<tr><th scope=row>4</th><td>2</td><td>2014-12-20</td><td></td><td>Dog</td><td>French Bulldog</td><td>8 weeks to 12 months old</td><td>35613</td><td>2017-12-05</td><td>567.32</td></tr>\n",
       "\t<tr><th scope=row>5</th><td>2</td><td>2014-12-20</td><td></td><td>Dog</td><td>French Bulldog</td><td>8 weeks to 12 months old</td><td>25317</td><td>2018-07-14</td><td> 27.25</td></tr>\n",
       "\t<tr><th scope=row>6</th><td>2</td><td>2014-12-20</td><td></td><td>Dog</td><td>French Bulldog</td><td>8 weeks to 12 months old</td><td>37156</td><td>2018-06-04</td><td>278.88</td></tr>\n",
       "</tbody>\n",
       "</table>\n"
      ],
      "text/latex": [
       "A data.frame: 6 × 9\n",
       "\\begin{tabular}{r|lllllllll}\n",
       "  & PetId & EnrollDate & CancelDate & Species & Breed & AgeAtEnroll & ClaimId & ClaimDate & ClaimAmount\\\\\n",
       "  & <int> & <fct> & <fct> & <fct> & <fct> & <fct> & <int> & <fct> & <dbl>\\\\\n",
       "\\hline\n",
       "\t1 & 2 & 2014-12-20 &  & Dog & French Bulldog & 8 weeks to 12 months old & 26643 & 2018-11-16 & 186.76\\\\\n",
       "\t2 & 2 & 2014-12-20 &  & Dog & French Bulldog & 8 weeks to 12 months old & 27391 & 2018-06-15 & 162.01\\\\\n",
       "\t3 & 2 & 2014-12-20 &  & Dog & French Bulldog & 8 weeks to 12 months old &  7633 & 2018-02-14 &  82.80\\\\\n",
       "\t4 & 2 & 2014-12-20 &  & Dog & French Bulldog & 8 weeks to 12 months old & 35613 & 2017-12-05 & 567.32\\\\\n",
       "\t5 & 2 & 2014-12-20 &  & Dog & French Bulldog & 8 weeks to 12 months old & 25317 & 2018-07-14 &  27.25\\\\\n",
       "\t6 & 2 & 2014-12-20 &  & Dog & French Bulldog & 8 weeks to 12 months old & 37156 & 2018-06-04 & 278.88\\\\\n",
       "\\end{tabular}\n"
      ],
      "text/markdown": [
       "\n",
       "A data.frame: 6 × 9\n",
       "\n",
       "| <!--/--> | PetId &lt;int&gt; | EnrollDate &lt;fct&gt; | CancelDate &lt;fct&gt; | Species &lt;fct&gt; | Breed &lt;fct&gt; | AgeAtEnroll &lt;fct&gt; | ClaimId &lt;int&gt; | ClaimDate &lt;fct&gt; | ClaimAmount &lt;dbl&gt; |\n",
       "|---|---|---|---|---|---|---|---|---|---|\n",
       "| 1 | 2 | 2014-12-20 | <!----> | Dog | French Bulldog | 8 weeks to 12 months old | 26643 | 2018-11-16 | 186.76 |\n",
       "| 2 | 2 | 2014-12-20 | <!----> | Dog | French Bulldog | 8 weeks to 12 months old | 27391 | 2018-06-15 | 162.01 |\n",
       "| 3 | 2 | 2014-12-20 | <!----> | Dog | French Bulldog | 8 weeks to 12 months old |  7633 | 2018-02-14 |  82.80 |\n",
       "| 4 | 2 | 2014-12-20 | <!----> | Dog | French Bulldog | 8 weeks to 12 months old | 35613 | 2017-12-05 | 567.32 |\n",
       "| 5 | 2 | 2014-12-20 | <!----> | Dog | French Bulldog | 8 weeks to 12 months old | 25317 | 2018-07-14 |  27.25 |\n",
       "| 6 | 2 | 2014-12-20 | <!----> | Dog | French Bulldog | 8 weeks to 12 months old | 37156 | 2018-06-04 | 278.88 |\n",
       "\n"
      ],
      "text/plain": [
       "  PetId EnrollDate CancelDate Species Breed          AgeAtEnroll             \n",
       "1 2     2014-12-20            Dog     French Bulldog 8 weeks to 12 months old\n",
       "2 2     2014-12-20            Dog     French Bulldog 8 weeks to 12 months old\n",
       "3 2     2014-12-20            Dog     French Bulldog 8 weeks to 12 months old\n",
       "4 2     2014-12-20            Dog     French Bulldog 8 weeks to 12 months old\n",
       "5 2     2014-12-20            Dog     French Bulldog 8 weeks to 12 months old\n",
       "6 2     2014-12-20            Dog     French Bulldog 8 weeks to 12 months old\n",
       "  ClaimId ClaimDate  ClaimAmount\n",
       "1 26643   2018-11-16 186.76     \n",
       "2 27391   2018-06-15 162.01     \n",
       "3  7633   2018-02-14  82.80     \n",
       "4 35613   2017-12-05 567.32     \n",
       "5 25317   2018-07-14  27.25     \n",
       "6 37156   2018-06-04 278.88     "
      ]
     },
     "metadata": {},
     "output_type": "display_data"
    }
   ],
   "source": [
    "#get the dates where a claim exists\n",
    "insurance_df = insurance_df %>% filter(!is.na(ClaimDate))\n",
    "head(insurance_df)"
   ]
  },
  {
   "cell_type": "code",
   "execution_count": 7,
   "metadata": {},
   "outputs": [
    {
     "name": "stderr",
     "output_type": "stream",
     "text": [
      "Don't know how to automatically pick scale for object of type xts/zoo. Defaulting to continuous.\n",
      "\n"
     ]
    },
    {
     "data": {
      "image/png": "[encoded data removed]",
      "text/plain": [
       "plot without title"
      ]
     },
     "metadata": {
      "image/png": {
       "height": 420,
       "width": 420
      }
     },
     "output_type": "display_data"
    }
   ],
   "source": [
    "#Convert the claiom data to an xts object for time series analysis\n",
    "ins_ts = xts(insurance_df[,c(9)], order.by = as.Date(insurance_df$ClaimDate), frequency=12)\n",
    "\n",
    "\n",
    "\n",
    "#Downsampling data to weekly since there is not consistent daily data\n",
    "weekly = apply.weekly(ins_ts[,1], sum)\n",
    "\n",
    "ggplot(weekly, aes(x=index(weekly), y=weekly[,1])) +\n",
    "       geom_line() +\n",
    "        xlab(\"Year\") +\n",
    "        ylab(\"Total Claims\") +\n",
    "        ggtitle(\"Weekly Claims\")"
   ]
  },
  {
   "cell_type": "markdown",
   "metadata": {},
   "source": [
    "Looks like there is a clear trend upwards in total claim cost. It's also interesting to note the very large spike near 2014 and the increase in variability. In general, there is quite a lot of variability when looking at the data on a weekly basis.\n",
    "\n",
    "Let's see what the data looks like when we downsample it to a monthly basis."
   ]
  },
  {
   "cell_type": "code",
   "execution_count": 8,
   "metadata": {},
   "outputs": [
    {
     "name": "stderr",
     "output_type": "stream",
     "text": [
      "Don't know how to automatically pick scale for object of type xts/zoo. Defaulting to continuous.\n",
      "\n"
     ]
    },
    {
     "data": {
      "image/png": "[encoded data removed]",
      "text/plain": [
       "plot without title"
      ]
     },
     "metadata": {
      "image/png": {
       "height": 420,
       "width": 420
      }
     },
     "output_type": "display_data"
    }
   ],
   "source": [
    "#Downsampling data to weekly since there is not consistent daily data\n",
    "claims_monthly = apply.monthly(ins_ts[,1], sum)\n",
    "attr(claims_monthly, \"frequency\") = 12\n",
    "\n",
    "ggplot(claims_monthly, aes(x=index(claims_monthly), y=claims_monthly[,1])) +\n",
    "       geom_line() +\n",
    "        xlab(\"Year\") +\n",
    "        ylab(\"Total Claims\") +\n",
    "        ggtitle(\"Monthly Claims\")"
   ]
  },
  {
   "cell_type": "markdown",
   "metadata": {},
   "source": [
    "Some seasonality is a little more apparent in the dataset when looking at it on a monthly basis, as well as the increasing trend. I think it may also be useful to look at the data on a normalized claim basis, that is that the total claims divided by the number of claims. This will help answer the question of whether indiviudal claim costs are increasing or it is mostly driven by aggregage claims."
   ]
  },
  {
   "cell_type": "code",
   "execution_count": 9,
   "metadata": {},
   "outputs": [
    {
     "data": {
      "text/html": [
       "<table>\n",
       "<caption>A data.frame: 6 × 9</caption>\n",
       "<thead>\n",
       "\t<tr><th></th><th scope=col>PetId</th><th scope=col>EnrollDate</th><th scope=col>CancelDate</th><th scope=col>Species</th><th scope=col>Breed</th><th scope=col>AgeAtEnroll</th><th scope=col>ClaimId</th><th scope=col>ClaimDate</th><th scope=col>ClaimAmount</th></tr>\n",
       "\t<tr><th></th><th scope=col>&lt;int&gt;</th><th scope=col>&lt;fct&gt;</th><th scope=col>&lt;fct&gt;</th><th scope=col>&lt;fct&gt;</th><th scope=col>&lt;fct&gt;</th><th scope=col>&lt;fct&gt;</th><th scope=col>&lt;int&gt;</th><th scope=col>&lt;fct&gt;</th><th scope=col>&lt;dbl&gt;</th></tr>\n",
       "</thead>\n",
       "<tbody>\n",
       "\t<tr><th scope=row>1</th><td>2</td><td>2014-12-20</td><td></td><td>Dog</td><td>French Bulldog</td><td>8 weeks to 12 months old</td><td>26643</td><td>2018-11-16</td><td>186.76</td></tr>\n",
       "\t<tr><th scope=row>2</th><td>2</td><td>2014-12-20</td><td></td><td>Dog</td><td>French Bulldog</td><td>8 weeks to 12 months old</td><td>27391</td><td>2018-06-15</td><td>162.01</td></tr>\n",
       "\t<tr><th scope=row>3</th><td>2</td><td>2014-12-20</td><td></td><td>Dog</td><td>French Bulldog</td><td>8 weeks to 12 months old</td><td> 7633</td><td>2018-02-14</td><td> 82.80</td></tr>\n",
       "\t<tr><th scope=row>4</th><td>2</td><td>2014-12-20</td><td></td><td>Dog</td><td>French Bulldog</td><td>8 weeks to 12 months old</td><td>35613</td><td>2017-12-05</td><td>567.32</td></tr>\n",
       "\t<tr><th scope=row>5</th><td>2</td><td>2014-12-20</td><td></td><td>Dog</td><td>French Bulldog</td><td>8 weeks to 12 months old</td><td>25317</td><td>2018-07-14</td><td> 27.25</td></tr>\n",
       "\t<tr><th scope=row>6</th><td>2</td><td>2014-12-20</td><td></td><td>Dog</td><td>French Bulldog</td><td>8 weeks to 12 months old</td><td>37156</td><td>2018-06-04</td><td>278.88</td></tr>\n",
       "</tbody>\n",
       "</table>\n"
      ],
      "text/latex": [
       "A data.frame: 6 × 9\n",
       "\\begin{tabular}{r|lllllllll}\n",
       "  & PetId & EnrollDate & CancelDate & Species & Breed & AgeAtEnroll & ClaimId & ClaimDate & ClaimAmount\\\\\n",
       "  & <int> & <fct> & <fct> & <fct> & <fct> & <fct> & <int> & <fct> & <dbl>\\\\\n",
       "\\hline\n",
       "\t1 & 2 & 2014-12-20 &  & Dog & French Bulldog & 8 weeks to 12 months old & 26643 & 2018-11-16 & 186.76\\\\\n",
       "\t2 & 2 & 2014-12-20 &  & Dog & French Bulldog & 8 weeks to 12 months old & 27391 & 2018-06-15 & 162.01\\\\\n",
       "\t3 & 2 & 2014-12-20 &  & Dog & French Bulldog & 8 weeks to 12 months old &  7633 & 2018-02-14 &  82.80\\\\\n",
       "\t4 & 2 & 2014-12-20 &  & Dog & French Bulldog & 8 weeks to 12 months old & 35613 & 2017-12-05 & 567.32\\\\\n",
       "\t5 & 2 & 2014-12-20 &  & Dog & French Bulldog & 8 weeks to 12 months old & 25317 & 2018-07-14 &  27.25\\\\\n",
       "\t6 & 2 & 2014-12-20 &  & Dog & French Bulldog & 8 weeks to 12 months old & 37156 & 2018-06-04 & 278.88\\\\\n",
       "\\end{tabular}\n"
      ],
      "text/markdown": [
       "\n",
       "A data.frame: 6 × 9\n",
       "\n",
       "| <!--/--> | PetId &lt;int&gt; | EnrollDate &lt;fct&gt; | CancelDate &lt;fct&gt; | Species &lt;fct&gt; | Breed &lt;fct&gt; | AgeAtEnroll &lt;fct&gt; | ClaimId &lt;int&gt; | ClaimDate &lt;fct&gt; | ClaimAmount &lt;dbl&gt; |\n",
       "|---|---|---|---|---|---|---|---|---|---|\n",
       "| 1 | 2 | 2014-12-20 | <!----> | Dog | French Bulldog | 8 weeks to 12 months old | 26643 | 2018-11-16 | 186.76 |\n",
       "| 2 | 2 | 2014-12-20 | <!----> | Dog | French Bulldog | 8 weeks to 12 months old | 27391 | 2018-06-15 | 162.01 |\n",
       "| 3 | 2 | 2014-12-20 | <!----> | Dog | French Bulldog | 8 weeks to 12 months old |  7633 | 2018-02-14 |  82.80 |\n",
       "| 4 | 2 | 2014-12-20 | <!----> | Dog | French Bulldog | 8 weeks to 12 months old | 35613 | 2017-12-05 | 567.32 |\n",
       "| 5 | 2 | 2014-12-20 | <!----> | Dog | French Bulldog | 8 weeks to 12 months old | 25317 | 2018-07-14 |  27.25 |\n",
       "| 6 | 2 | 2014-12-20 | <!----> | Dog | French Bulldog | 8 weeks to 12 months old | 37156 | 2018-06-04 | 278.88 |\n",
       "\n"
      ],
      "text/plain": [
       "  PetId EnrollDate CancelDate Species Breed          AgeAtEnroll             \n",
       "1 2     2014-12-20            Dog     French Bulldog 8 weeks to 12 months old\n",
       "2 2     2014-12-20            Dog     French Bulldog 8 weeks to 12 months old\n",
       "3 2     2014-12-20            Dog     French Bulldog 8 weeks to 12 months old\n",
       "4 2     2014-12-20            Dog     French Bulldog 8 weeks to 12 months old\n",
       "5 2     2014-12-20            Dog     French Bulldog 8 weeks to 12 months old\n",
       "6 2     2014-12-20            Dog     French Bulldog 8 weeks to 12 months old\n",
       "  ClaimId ClaimDate  ClaimAmount\n",
       "1 26643   2018-11-16 186.76     \n",
       "2 27391   2018-06-15 162.01     \n",
       "3  7633   2018-02-14  82.80     \n",
       "4 35613   2017-12-05 567.32     \n",
       "5 25317   2018-07-14  27.25     \n",
       "6 37156   2018-06-04 278.88     "
      ]
     },
     "metadata": {},
     "output_type": "display_data"
    }
   ],
   "source": [
    "head(insurance_df)"
   ]
  },
  {
   "cell_type": "code",
   "execution_count": 10,
   "metadata": {},
   "outputs": [
    {
     "name": "stderr",
     "output_type": "stream",
     "text": [
      "`summarise()` ungrouping output (override with `.groups` argument)\n",
      "\n"
     ]
    }
   ],
   "source": [
    "#Get the claim counts\n",
    "claim_counts = insurance_df %>%\n",
    "                group_by(Date = as.Date(ClaimDate)) %>%\n",
    "                summarise( Total_Claims = n())\n",
    "\n",
    "#convert to xts\n",
    "claim_counts = xts(claim_counts[,\"Total_Claims\"], order.by = as.Date(claim_counts$Date))\n",
    "\n",
    "#Aggregate to monthly basis\n",
    "claimct_monthly = apply.monthly(claim_counts[,\"Total_Claims\"], sum)\n",
    "\n",
    "#Divide claims by claim count\n",
    "norm_claims = claims_monthly/claimct_monthly"
   ]
  },
  {
   "cell_type": "markdown",
   "metadata": {},
   "source": [
    "Warning is OK as there is only one grouping variable"
   ]
  },
  {
   "cell_type": "code",
   "execution_count": 11,
   "metadata": {},
   "outputs": [
    {
     "data": {
      "image/png": "[encoded data removed]",
      "text/plain": [
       "plot without title"
      ]
     },
     "metadata": {
      "image/png": {
       "height": 420,
       "width": 420
      }
     },
     "output_type": "display_data"
    }
   ],
   "source": [
    "ggplot(data = norm_claims, aes(x=index(norm_claims), y=Total_Claims)) +\n",
    "        geom_line()  +\n",
    "        xlab(\"Year\") +\n",
    "        ylab(\"Total Claims Normalized by Count\") +\n",
    "        ggtitle(\"Monthly Claims\")"
   ]
  },
  {
   "cell_type": "markdown",
   "metadata": {},
   "source": [
    "Looks like overall the cost is trending slightly upwards on a per claim basis. Next let's look at the autocorrelation plot for the total monthly claims."
   ]
  },
  {
   "cell_type": "code",
   "execution_count": 12,
   "metadata": {},
   "outputs": [
    {
     "data": {
      "image/png": "[encoded data removed]",
      "text/plain": [
       "Plot with title \"Series  as.vector(claims_monthly[, 1])\""
      ]
     },
     "metadata": {
      "image/png": {
       "height": 420,
       "width": 420
      }
     },
     "output_type": "display_data"
    }
   ],
   "source": [
    "acf(as.vector(claims_monthly[,1]))"
   ]
  },
  {
   "cell_type": "markdown",
   "metadata": {},
   "source": [
    "Looks like the data would be best differenced by 1 (as indicated by the steadily decreasing autocorrelation pattern). Let's take care of that then look at the data and autocorrelations again."
   ]
  },
  {
   "cell_type": "code",
   "execution_count": 13,
   "metadata": {},
   "outputs": [
    {
     "data": {
      "image/png": "[encoded data removed]",
      "text/plain": [
       "plot without title"
      ]
     },
     "metadata": {
      "image/png": {
       "height": 420,
       "width": 420
      }
     },
     "output_type": "display_data"
    },
    {
     "data": {
      "image/png": "[encoded data removed]",
      "text/plain": [
       "Plot with title \"Series  claims_diff1\""
      ]
     },
     "metadata": {
      "image/png": {
       "height": 420,
       "width": 420
      }
     },
     "output_type": "display_data"
    },
    {
     "data": {
      "image/png": "[encoded data removed]",
      "text/plain": [
       "Plot with title \"Series  claims_diff1\""
      ]
     },
     "metadata": {
      "image/png": {
       "height": 420,
       "width": 420
      }
     },
     "output_type": "display_data"
    }
   ],
   "source": [
    "#difference the data by 1 lag\n",
    "claims_diff1 = diff(claims_monthly, lag=1)\n",
    "claims_diff1 = as.vector(claims_diff1[complete.cases(claims_diff1)][,1])\n",
    "\n",
    "#plot the differenced data\n",
    "plot(claims_diff1, type='l')\n",
    "\n",
    "#plot the differenced acf data\n",
    "acf(claims_diff1)\n",
    "\n",
    "#plot the partial autocorrelation function\n",
    "pacf(claims_diff1)"
   ]
  },
  {
   "cell_type": "markdown",
   "metadata": {},
   "source": [
    "Looking at the differenced data, it looks like we might not have stationary data since the variance increases over time. Also by choosing a lag of 1 we are actually over differenced as noted by the large negative at lag 1. Since the autocorrelation is negative we want to introduce an MA to smooth things out. It is also important to note that when an AR/MA term is added another order of differencing could work slightly better.\n",
    "\n",
    "There is also a great amount of subjectivity and it is difficult to know what combination of AR/MA parameters would best fit the data. This is where auto.arima comes in handy and will help automate some of this process. I need to separate the data into train and test data first as well as perform a Dickey-Fuller test on the entire dataset."
   ]
  },
  {
   "cell_type": "code",
   "execution_count": 37,
   "metadata": {},
   "outputs": [
    {
     "ename": "ERROR",
     "evalue": "Error in melt(claims_monthly, measure.vars = c(\"value\", \"y\")): could not find function \"melt\"\n",
     "output_type": "error",
     "traceback": [
      "Error in melt(claims_monthly, measure.vars = c(\"value\", \"y\")): could not find function \"melt\"\nTraceback:\n"
     ]
    }
   ],
   "source": [
    "# The BoxCox.lambda() function will choose a value of lambda\n",
    "lam = BoxCox.lambda(as.vector(claims_monthly), method = \"loglik\")\n",
    "transformed_data = BoxCox(as.vector(claims_monthly), lam)\n",
    "claims_monthly[,1] = transformed_data"
   ]
  },
  {
   "cell_type": "code",
   "execution_count": 14,
   "metadata": {},
   "outputs": [],
   "source": [
    "# Random sample indexes\n",
    "train_index= 0.8 * nrow(claims_monthly)\n",
    "\n",
    "\n",
    "# Build train and test\n",
    "train = claims_monthly[1:train_index,]\n",
    "\n",
    "test = claims_monthly[train_index:length(claims_monthly), ]\n",
    "#test = ts_xts(test)"
   ]
  },
  {
   "cell_type": "code",
   "execution_count": 15,
   "metadata": {},
   "outputs": [
    {
     "name": "stderr",
     "output_type": "stream",
     "text": [
      "Warning message in adf.test(claims_monthly, k = 1):\n",
      "\"p-value smaller than printed p-value\"\n"
     ]
    },
    {
     "data": {
      "text/plain": [
       "\n",
       "\tAugmented Dickey-Fuller Test\n",
       "\n",
       "data:  claims_monthly\n",
       "Dickey-Fuller = -4.512, Lag order = 1, p-value = 0.01\n",
       "alternative hypothesis: stationary\n"
      ]
     },
     "metadata": {},
     "output_type": "display_data"
    }
   ],
   "source": [
    "#Dickey-Fuller test\n",
    "adf.test(claims_monthly, k=1)"
   ]
  },
  {
   "cell_type": "markdown",
   "metadata": {},
   "source": [
    "The result is we reject the null hypothesis that the data is <b>not</b> stationary. The evidence supports the alternative hypothesis that the data is stationary when using a lag order of 1."
   ]
  },
  {
   "cell_type": "code",
   "execution_count": 16,
   "metadata": {},
   "outputs": [
    {
     "name": "stdout",
     "output_type": "stream",
     "text": [
      "\n",
      " ARIMA(2,1,2)(1,1,1)[12]                    : Inf\n",
      " ARIMA(0,1,0)(0,1,0)[12]                    : 1859.456\n",
      " ARIMA(1,1,0)(1,1,0)[12]                    : 1826.756\n",
      " ARIMA(0,1,1)(0,1,1)[12]                    : Inf\n",
      " ARIMA(1,1,0)(0,1,0)[12]                    : 1840.212\n",
      " ARIMA(1,1,0)(2,1,0)[12]                    : 1822.151\n",
      " ARIMA(1,1,0)(2,1,1)[12]                    : Inf\n",
      " ARIMA(1,1,0)(1,1,1)[12]                    : Inf\n",
      " ARIMA(0,1,0)(2,1,0)[12]                    : 1840.105\n",
      " ARIMA(2,1,0)(2,1,0)[12]                    : 1806.25\n",
      " ARIMA(2,1,0)(1,1,0)[12]                    : 1807.757\n",
      " ARIMA(2,1,0)(2,1,1)[12]                    : Inf\n",
      " ARIMA(2,1,0)(1,1,1)[12]                    : Inf\n",
      " ARIMA(3,1,0)(2,1,0)[12]                    : 1805.805\n",
      " ARIMA(3,1,0)(1,1,0)[12]                    : 1807.732\n",
      " ARIMA(3,1,0)(2,1,1)[12]                    : Inf\n",
      " ARIMA(3,1,0)(1,1,1)[12]                    : Inf\n",
      " ARIMA(4,1,0)(2,1,0)[12]                    : 1800.756\n",
      " ARIMA(4,1,0)(1,1,0)[12]                    : 1801.82\n",
      " ARIMA(4,1,0)(2,1,1)[12]                    : Inf\n",
      " ARIMA(4,1,0)(1,1,1)[12]                    : Inf\n",
      " ARIMA(5,1,0)(2,1,0)[12]                    : 1802.957\n",
      " ARIMA(4,1,1)(2,1,0)[12]                    : 1802.748\n",
      " ARIMA(3,1,1)(2,1,0)[12]                    : 1803.405\n",
      " ARIMA(5,1,1)(2,1,0)[12]                    : 1805.217\n",
      "\n",
      " Best model: ARIMA(4,1,0)(2,1,0)[12]                    \n",
      "\n"
     ]
    },
    {
     "data": {
      "text/plain": [
       "Series:  \n",
       "ARIMA(4,1,0)(2,1,0)[12] \n",
       "\n",
       "Coefficients:\n",
       "          ar1      ar2      ar3      ar4     sar1     sar2\n",
       "      -0.9212  -0.8334  -0.4494  -0.3101  -0.7155  -0.2606\n",
       "s.e.   0.1204   0.1515   0.1432   0.1094   0.1241   0.1348\n",
       "\n",
       "sigma^2 estimated as 498921861:  log likelihood=-892.58\n",
       "AIC=1799.16   AICc=1800.76   BIC=1815.65"
      ]
     },
     "metadata": {},
     "output_type": "display_data"
    }
   ],
   "source": [
    "auto_arima = auto.arima(x=train, trace=TRUE, max.p = 12, max.q = 12, D = 1, ic=\"aicc\", approximation=FALSE)\n",
    "arima_forecast = forecast(auto_arima, h=12)\n",
    "auto_arima"
   ]
  },
  {
   "cell_type": "markdown",
   "metadata": {},
   "source": [
    "$$#$$\n",
    "Let's take a look at the fit of the model compared to our data"
   ]
  },
  {
   "cell_type": "code",
   "execution_count": 17,
   "metadata": {},
   "outputs": [
    {
     "data": {
      "image/png": "[encoded data removed]",
      "text/plain": [
       "plot without title"
      ]
     },
     "metadata": {
      "image/png": {
       "height": 420,
       "width": 420
      }
     },
     "output_type": "display_data"
    }
   ],
   "source": [
    "#fit the model\n",
    "fitted_arima = Arima(train, order = c(4, 1, 0), seasonal = c(2, 1, 0))\n",
    "\n",
    "#data originall fed into model\n",
    "orig_data = data.frame(fitted_arima$x)\n",
    "\n",
    "#fitted data\n",
    "fitted_data = data.frame(fitted(fitted_arima))                       \n",
    "              \n",
    "#get forecast values\n",
    "test_forecast = data.frame(predict(fitted_arima, 23))\n",
    "rownames(test_forecast) = index(test)\n",
    "\n",
    "#plotting data vs fit                        \n",
    "ggplot() +\n",
    "geom_line(data = orig_data, aes(x = index(train), y = fitted_arima.x), col='black') +\n",
    "geom_line(data = fitted_data, aes(x = index(train), y = fitted.fitted_arima.), col='red', linetype='dashed', size=0.8)"
   ]
  },
  {
   "cell_type": "markdown",
   "metadata": {},
   "source": [
    "We can see that the model still has issues picking up on the spikes, especially around 2014. Adding something like a sine/fourier series could improve the model, but I am interested in trying different algorithms to see if they can better pick up on the data out of the box."
   ]
  },
  {
   "cell_type": "code",
   "execution_count": 18,
   "metadata": {},
   "outputs": [
    {
     "data": {
      "image/png": "[encoded data removed]",
      "text/plain": [
       "Plot with title \"Forecasts from ARIMA(4,1,0)(2,1,0)[12]\""
      ]
     },
     "metadata": {
      "image/png": {
       "height": 420,
       "width": 420
      }
     },
     "output_type": "display_data"
    }
   ],
   "source": [
    "fitted_arima %>%\n",
    "  forecast(h=6) %>%\n",
    "\n",
    "plot() #+ autolayer(test)"
   ]
  },
  {
   "cell_type": "code",
   "execution_count": 19,
   "metadata": {},
   "outputs": [],
   "source": [
    "my_forecast = forecast(fitted_arima, h=23, level = c(95))"
   ]
  },
  {
   "cell_type": "code",
   "execution_count": 20,
   "metadata": {},
   "outputs": [],
   "source": [
    "forecast_reformatted = cbind(y = my_forecast$mean, y.lo = my_forecast$lower, y.hi = my_forecast$upper )\n",
    "forecast_xts = xts(forecast_reformatted, index(test))\n",
    "\n",
    "myxts_reformatted = cbind(y = train, y.lo = NA, y.hi = NA)\n",
    "#myxts_final = xts(myxts_reformatted)\n",
    "\n",
    "train_test = rbind(myxts_reformatted, forecast_xts)"
   ]
  },
  {
   "cell_type": "code",
   "execution_count": 21,
   "metadata": {},
   "outputs": [
    {
     "data": {
      "image/png": "[encoded data removed]",
      "text/plain": [
       "plot without title"
      ]
     },
     "metadata": {
      "image/png": {
       "height": 420,
       "width": 420
      }
     },
     "output_type": "display_data"
    }
   ],
   "source": [
    "train_test %>% ts.plot()"
   ]
  },
  {
   "cell_type": "markdown",
   "metadata": {},
   "source": [
    "Moving on to some slightly more complex algorithms."
   ]
  },
  {
   "cell_type": "markdown",
   "metadata": {},
   "source": [
    "### Prophet\n",
    "\n",
    "Next I'd like to test what we can achieve using a more modern time series model, such as the Prophet algorithm developed by Facebook. While it is recommended to use daily data, we don't have daily observations. We'll stick to using monthly data as it's still possible to use Prophet."
   ]
  },
  {
   "cell_type": "code",
   "execution_count": 22,
   "metadata": {},
   "outputs": [
    {
     "data": {
      "text/html": [
       "<table>\n",
       "<caption>A data.frame: 1 × 9</caption>\n",
       "<thead>\n",
       "\t<tr><th></th><th scope=col>PetId</th><th scope=col>EnrollDate</th><th scope=col>CancelDate</th><th scope=col>Species</th><th scope=col>Breed</th><th scope=col>AgeAtEnroll</th><th scope=col>ClaimId</th><th scope=col>ClaimDate</th><th scope=col>ClaimAmount</th></tr>\n",
       "\t<tr><th></th><th scope=col>&lt;int&gt;</th><th scope=col>&lt;fct&gt;</th><th scope=col>&lt;fct&gt;</th><th scope=col>&lt;fct&gt;</th><th scope=col>&lt;fct&gt;</th><th scope=col>&lt;fct&gt;</th><th scope=col>&lt;int&gt;</th><th scope=col>&lt;fct&gt;</th><th scope=col>&lt;dbl&gt;</th></tr>\n",
       "</thead>\n",
       "<tbody>\n",
       "\t<tr><th scope=row>1</th><td>2</td><td>2014-12-20</td><td></td><td>Dog</td><td>French Bulldog</td><td>8 weeks to 12 months old</td><td>26643</td><td>2018-11-16</td><td>186.76</td></tr>\n",
       "</tbody>\n",
       "</table>\n"
      ],
      "text/latex": [
       "A data.frame: 1 × 9\n",
       "\\begin{tabular}{r|lllllllll}\n",
       "  & PetId & EnrollDate & CancelDate & Species & Breed & AgeAtEnroll & ClaimId & ClaimDate & ClaimAmount\\\\\n",
       "  & <int> & <fct> & <fct> & <fct> & <fct> & <fct> & <int> & <fct> & <dbl>\\\\\n",
       "\\hline\n",
       "\t1 & 2 & 2014-12-20 &  & Dog & French Bulldog & 8 weeks to 12 months old & 26643 & 2018-11-16 & 186.76\\\\\n",
       "\\end{tabular}\n"
      ],
      "text/markdown": [
       "\n",
       "A data.frame: 1 × 9\n",
       "\n",
       "| <!--/--> | PetId &lt;int&gt; | EnrollDate &lt;fct&gt; | CancelDate &lt;fct&gt; | Species &lt;fct&gt; | Breed &lt;fct&gt; | AgeAtEnroll &lt;fct&gt; | ClaimId &lt;int&gt; | ClaimDate &lt;fct&gt; | ClaimAmount &lt;dbl&gt; |\n",
       "|---|---|---|---|---|---|---|---|---|---|\n",
       "| 1 | 2 | 2014-12-20 | <!----> | Dog | French Bulldog | 8 weeks to 12 months old | 26643 | 2018-11-16 | 186.76 |\n",
       "\n"
      ],
      "text/plain": [
       "  PetId EnrollDate CancelDate Species Breed          AgeAtEnroll             \n",
       "1 2     2014-12-20            Dog     French Bulldog 8 weeks to 12 months old\n",
       "  ClaimId ClaimDate  ClaimAmount\n",
       "1 26643   2018-11-16 186.76     "
      ]
     },
     "metadata": {},
     "output_type": "display_data"
    }
   ],
   "source": [
    "head(insurance_df, 1)"
   ]
  },
  {
   "cell_type": "code",
   "execution_count": 23,
   "metadata": {},
   "outputs": [],
   "source": [
    "#Change column to date type\n",
    "insurance_df[\"EnrollDate\"] = as.Date(insurance_df[[\"EnrollDate\"]])\n",
    "\n",
    "#change empty cells to end of month date for cancel date (active policies)\n",
    "insurance_df$CancelDate[insurance_df[\"CancelDate\"] == \"\"] = \"2019-06-30\"\n",
    "insurance_df$CancelDate = as.Date(insurance_df$CancelDate)\n",
    "\n",
    "#number the days the policy has been inforce\n",
    "days_insured = (insurance_df[\"CancelDate\"] - insurance_df[\"EnrollDate\"])\n",
    "        "
   ]
  },
  {
   "cell_type": "markdown",
   "metadata": {},
   "source": [
    "Taking a look at the distribution of how long a policy stays inforce in terms of days and (approximately) in terms of months out of curiosity."
   ]
  },
  {
   "cell_type": "code",
   "execution_count": 24,
   "metadata": {},
   "outputs": [
    {
     "data": {
      "image/png": "[encoded data removed]",
      "text/plain": [
       "Plot with title \"Days Insured\""
      ]
     },
     "metadata": {
      "image/png": {
       "height": 420,
       "width": 420
      }
     },
     "output_type": "display_data"
    },
    {
     "data": {
      "image/png": "[encoded data removed]",
      "text/plain": [
       "Plot with title \"Approx. Months Insured\""
      ]
     },
     "metadata": {
      "image/png": {
       "height": 420,
       "width": 420
      }
     },
     "output_type": "display_data"
    }
   ],
   "source": [
    "hist(as.numeric(days_insured$CancelDate), main = \"Days Insured\")\n",
    "hist(as.numeric(days_insured$CancelDate)/30, main = \"Approx. Months Insured\")"
   ]
  },
  {
   "cell_type": "markdown",
   "metadata": {},
   "source": [
    "Looks like most pets have been insured between a little over 3 years to a little over 6 years and the distribution is approximately normal."
   ]
  },
  {
   "cell_type": "code",
   "execution_count": 25,
   "metadata": {},
   "outputs": [
    {
     "data": {
      "text/html": [
       "<table>\n",
       "<caption>A data.frame: 0 × 5</caption>\n",
       "<thead>\n",
       "\t<tr><th scope=col>Species</th><th scope=col>Breed</th><th scope=col>AgeAtEnroll</th><th scope=col>ClaimDate</th><th scope=col>ClaimAmount</th></tr>\n",
       "\t<tr><th scope=col>&lt;fct&gt;</th><th scope=col>&lt;fct&gt;</th><th scope=col>&lt;fct&gt;</th><th scope=col>&lt;fct&gt;</th><th scope=col>&lt;dbl&gt;</th></tr>\n",
       "</thead>\n",
       "<tbody>\n",
       "</tbody>\n",
       "</table>\n"
      ],
      "text/latex": [
       "A data.frame: 0 × 5\n",
       "\\begin{tabular}{lllll}\n",
       " Species & Breed & AgeAtEnroll & ClaimDate & ClaimAmount\\\\\n",
       " <fct> & <fct> & <fct> & <fct> & <dbl>\\\\\n",
       "\\hline\n",
       "\\end{tabular}\n"
      ],
      "text/markdown": [
       "\n",
       "A data.frame: 0 × 5\n",
       "\n",
       "| Species &lt;fct&gt; | Breed &lt;fct&gt; | AgeAtEnroll &lt;fct&gt; | ClaimDate &lt;fct&gt; | ClaimAmount &lt;dbl&gt; |\n",
       "|---|---|---|---|---|\n",
       "\n"
      ],
      "text/plain": [
       "     Species Breed AgeAtEnroll ClaimDate ClaimAmount"
      ]
     },
     "metadata": {},
     "output_type": "display_data"
    }
   ],
   "source": [
    "prophet_df = insurance_df[,c(4,5,6,8,9)]\n",
    "head(merge(prophet_df, days_insured, by=1))"
   ]
  },
  {
   "cell_type": "code",
   "execution_count": 26,
   "metadata": {},
   "outputs": [
    {
     "data": {
      "text/html": [
       "<table>\n",
       "<caption>A data.frame: 37049 × 1</caption>\n",
       "<thead>\n",
       "\t<tr><th scope=col>CancelDate</th></tr>\n",
       "\t<tr><th scope=col>&lt;drtn&gt;</th></tr>\n",
       "</thead>\n",
       "<tbody>\n",
       "\t<tr><td>1653 days</td></tr>\n",
       "\t<tr><td>1653 days</td></tr>\n",
       "\t<tr><td>1653 days</td></tr>\n",
       "\t<tr><td>1653 days</td></tr>\n",
       "\t<tr><td>1653 days</td></tr>\n",
       "\t<tr><td>1653 days</td></tr>\n",
       "\t<tr><td>1653 days</td></tr>\n",
       "\t<tr><td>1653 days</td></tr>\n",
       "\t<tr><td>1653 days</td></tr>\n",
       "\t<tr><td>1653 days</td></tr>\n",
       "\t<tr><td>1653 days</td></tr>\n",
       "\t<tr><td>1653 days</td></tr>\n",
       "\t<tr><td>1653 days</td></tr>\n",
       "\t<tr><td>1653 days</td></tr>\n",
       "\t<tr><td>1806 days</td></tr>\n",
       "\t<tr><td> 978 days</td></tr>\n",
       "\t<tr><td>2854 days</td></tr>\n",
       "\t<tr><td>2854 days</td></tr>\n",
       "\t<tr><td>2854 days</td></tr>\n",
       "\t<tr><td>2854 days</td></tr>\n",
       "\t<tr><td>2854 days</td></tr>\n",
       "\t<tr><td>2854 days</td></tr>\n",
       "\t<tr><td>2854 days</td></tr>\n",
       "\t<tr><td>2854 days</td></tr>\n",
       "\t<tr><td>2854 days</td></tr>\n",
       "\t<tr><td>2854 days</td></tr>\n",
       "\t<tr><td>2854 days</td></tr>\n",
       "\t<tr><td>2854 days</td></tr>\n",
       "\t<tr><td>2854 days</td></tr>\n",
       "\t<tr><td>2854 days</td></tr>\n",
       "\t<tr><td>...</td></tr>\n",
       "\t<tr><td>1767 days</td></tr>\n",
       "\t<tr><td>1767 days</td></tr>\n",
       "\t<tr><td>1767 days</td></tr>\n",
       "\t<tr><td>1767 days</td></tr>\n",
       "\t<tr><td>1767 days</td></tr>\n",
       "\t<tr><td>1767 days</td></tr>\n",
       "\t<tr><td>1767 days</td></tr>\n",
       "\t<tr><td>2503 days</td></tr>\n",
       "\t<tr><td>2503 days</td></tr>\n",
       "\t<tr><td>2503 days</td></tr>\n",
       "\t<tr><td>2503 days</td></tr>\n",
       "\t<tr><td>2503 days</td></tr>\n",
       "\t<tr><td>2503 days</td></tr>\n",
       "\t<tr><td>2503 days</td></tr>\n",
       "\t<tr><td> 680 days</td></tr>\n",
       "\t<tr><td>1754 days</td></tr>\n",
       "\t<tr><td>1524 days</td></tr>\n",
       "\t<tr><td>1524 days</td></tr>\n",
       "\t<tr><td>1524 days</td></tr>\n",
       "\t<tr><td>1509 days</td></tr>\n",
       "\t<tr><td> 143 days</td></tr>\n",
       "\t<tr><td> 736 days</td></tr>\n",
       "\t<tr><td>1323 days</td></tr>\n",
       "\t<tr><td>1323 days</td></tr>\n",
       "\t<tr><td>1323 days</td></tr>\n",
       "\t<tr><td>1323 days</td></tr>\n",
       "\t<tr><td>1323 days</td></tr>\n",
       "\t<tr><td>1323 days</td></tr>\n",
       "\t<tr><td>1323 days</td></tr>\n",
       "\t<tr><td>1323 days</td></tr>\n",
       "</tbody>\n",
       "</table>\n"
      ],
      "text/latex": [
       "A data.frame: 37049 × 1\n",
       "\\begin{tabular}{l}\n",
       " CancelDate\\\\\n",
       " <drtn>\\\\\n",
       "\\hline\n",
       "\t 1653 days\\\\\n",
       "\t 1653 days\\\\\n",
       "\t 1653 days\\\\\n",
       "\t 1653 days\\\\\n",
       "\t 1653 days\\\\\n",
       "\t 1653 days\\\\\n",
       "\t 1653 days\\\\\n",
       "\t 1653 days\\\\\n",
       "\t 1653 days\\\\\n",
       "\t 1653 days\\\\\n",
       "\t 1653 days\\\\\n",
       "\t 1653 days\\\\\n",
       "\t 1653 days\\\\\n",
       "\t 1653 days\\\\\n",
       "\t 1806 days\\\\\n",
       "\t  978 days\\\\\n",
       "\t 2854 days\\\\\n",
       "\t 2854 days\\\\\n",
       "\t 2854 days\\\\\n",
       "\t 2854 days\\\\\n",
       "\t 2854 days\\\\\n",
       "\t 2854 days\\\\\n",
       "\t 2854 days\\\\\n",
       "\t 2854 days\\\\\n",
       "\t 2854 days\\\\\n",
       "\t 2854 days\\\\\n",
       "\t 2854 days\\\\\n",
       "\t 2854 days\\\\\n",
       "\t 2854 days\\\\\n",
       "\t 2854 days\\\\\n",
       "\t ...\\\\\n",
       "\t 1767 days\\\\\n",
       "\t 1767 days\\\\\n",
       "\t 1767 days\\\\\n",
       "\t 1767 days\\\\\n",
       "\t 1767 days\\\\\n",
       "\t 1767 days\\\\\n",
       "\t 1767 days\\\\\n",
       "\t 2503 days\\\\\n",
       "\t 2503 days\\\\\n",
       "\t 2503 days\\\\\n",
       "\t 2503 days\\\\\n",
       "\t 2503 days\\\\\n",
       "\t 2503 days\\\\\n",
       "\t 2503 days\\\\\n",
       "\t  680 days\\\\\n",
       "\t 1754 days\\\\\n",
       "\t 1524 days\\\\\n",
       "\t 1524 days\\\\\n",
       "\t 1524 days\\\\\n",
       "\t 1509 days\\\\\n",
       "\t  143 days\\\\\n",
       "\t  736 days\\\\\n",
       "\t 1323 days\\\\\n",
       "\t 1323 days\\\\\n",
       "\t 1323 days\\\\\n",
       "\t 1323 days\\\\\n",
       "\t 1323 days\\\\\n",
       "\t 1323 days\\\\\n",
       "\t 1323 days\\\\\n",
       "\t 1323 days\\\\\n",
       "\\end{tabular}\n"
      ],
      "text/markdown": [
       "\n",
       "A data.frame: 37049 × 1\n",
       "\n",
       "| CancelDate &lt;drtn&gt; |\n",
       "|---|\n",
       "| 1653 days |\n",
       "| 1653 days |\n",
       "| 1653 days |\n",
       "| 1653 days |\n",
       "| 1653 days |\n",
       "| 1653 days |\n",
       "| 1653 days |\n",
       "| 1653 days |\n",
       "| 1653 days |\n",
       "| 1653 days |\n",
       "| 1653 days |\n",
       "| 1653 days |\n",
       "| 1653 days |\n",
       "| 1653 days |\n",
       "| 1806 days |\n",
       "|  978 days |\n",
       "| 2854 days |\n",
       "| 2854 days |\n",
       "| 2854 days |\n",
       "| 2854 days |\n",
       "| 2854 days |\n",
       "| 2854 days |\n",
       "| 2854 days |\n",
       "| 2854 days |\n",
       "| 2854 days |\n",
       "| 2854 days |\n",
       "| 2854 days |\n",
       "| 2854 days |\n",
       "| 2854 days |\n",
       "| 2854 days |\n",
       "| ... |\n",
       "| 1767 days |\n",
       "| 1767 days |\n",
       "| 1767 days |\n",
       "| 1767 days |\n",
       "| 1767 days |\n",
       "| 1767 days |\n",
       "| 1767 days |\n",
       "| 2503 days |\n",
       "| 2503 days |\n",
       "| 2503 days |\n",
       "| 2503 days |\n",
       "| 2503 days |\n",
       "| 2503 days |\n",
       "| 2503 days |\n",
       "|  680 days |\n",
       "| 1754 days |\n",
       "| 1524 days |\n",
       "| 1524 days |\n",
       "| 1524 days |\n",
       "| 1509 days |\n",
       "|  143 days |\n",
       "|  736 days |\n",
       "| 1323 days |\n",
       "| 1323 days |\n",
       "| 1323 days |\n",
       "| 1323 days |\n",
       "| 1323 days |\n",
       "| 1323 days |\n",
       "| 1323 days |\n",
       "| 1323 days |\n",
       "\n"
      ],
      "text/plain": [
       "      CancelDate\n",
       "1     1653 days \n",
       "2     1653 days \n",
       "3     1653 days \n",
       "4     1653 days \n",
       "5     1653 days \n",
       "6     1653 days \n",
       "7     1653 days \n",
       "8     1653 days \n",
       "9     1653 days \n",
       "10    1653 days \n",
       "11    1653 days \n",
       "12    1653 days \n",
       "13    1653 days \n",
       "14    1653 days \n",
       "15    1806 days \n",
       "16     978 days \n",
       "17    2854 days \n",
       "18    2854 days \n",
       "19    2854 days \n",
       "20    2854 days \n",
       "21    2854 days \n",
       "22    2854 days \n",
       "23    2854 days \n",
       "24    2854 days \n",
       "25    2854 days \n",
       "26    2854 days \n",
       "27    2854 days \n",
       "28    2854 days \n",
       "29    2854 days \n",
       "30    2854 days \n",
       "...   ...       \n",
       "37020 1767 days \n",
       "37021 1767 days \n",
       "37022 1767 days \n",
       "37023 1767 days \n",
       "37024 1767 days \n",
       "37025 1767 days \n",
       "37026 1767 days \n",
       "37027 2503 days \n",
       "37028 2503 days \n",
       "37029 2503 days \n",
       "37030 2503 days \n",
       "37031 2503 days \n",
       "37032 2503 days \n",
       "37033 2503 days \n",
       "37034  680 days \n",
       "37035 1754 days \n",
       "37036 1524 days \n",
       "37037 1524 days \n",
       "37038 1524 days \n",
       "37039 1509 days \n",
       "37040  143 days \n",
       "37041  736 days \n",
       "37042 1323 days \n",
       "37043 1323 days \n",
       "37044 1323 days \n",
       "37045 1323 days \n",
       "37046 1323 days \n",
       "37047 1323 days \n",
       "37048 1323 days \n",
       "37049 1323 days "
      ]
     },
     "metadata": {},
     "output_type": "display_data"
    }
   ],
   "source": [
    "days_insured"
   ]
  },
  {
   "cell_type": "code",
   "execution_count": null,
   "metadata": {},
   "outputs": [],
   "source": []
  }
 ],
 "metadata": {
  "kernelspec": {
   "display_name": "R",
   "language": "R",
   "name": "ir"
  },
  "language_info": {
   "codemirror_mode": "r",
   "file_extension": ".r",
   "mimetype": "text/x-r-source",
   "name": "R",
   "pygments_lexer": "r",
   "version": "3.6.0"
  }
 },
 "nbformat": 4,
 "nbformat_minor": 4
}

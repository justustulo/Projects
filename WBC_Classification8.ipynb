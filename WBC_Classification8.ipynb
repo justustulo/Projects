{
 "cells": [
  {
   "cell_type": "markdown",
   "metadata": {},
   "source": [
    "# WBC"
   ]
  },
  {
   "cell_type": "code",
   "execution_count": 1,
   "metadata": {},
   "outputs": [
    {
     "name": "stderr",
     "output_type": "stream",
     "text": [
      "/Users/gray/.pyenv/versions/3.6.5/envs/zzy_project/lib/python3.6/site-packages/tensorflow/python/framework/dtypes.py:516: FutureWarning: Passing (type, 1) or '1type' as a synonym of type is deprecated; in a future version of numpy, it will be understood as (type, (1,)) / '(1,)type'.\n",
      "  _np_qint8 = np.dtype([(\"qint8\", np.int8, 1)])\n",
      "/Users/gray/.pyenv/versions/3.6.5/envs/zzy_project/lib/python3.6/site-packages/tensorflow/python/framework/dtypes.py:517: FutureWarning: Passing (type, 1) or '1type' as a synonym of type is deprecated; in a future version of numpy, it will be understood as (type, (1,)) / '(1,)type'.\n",
      "  _np_quint8 = np.dtype([(\"quint8\", np.uint8, 1)])\n",
      "/Users/gray/.pyenv/versions/3.6.5/envs/zzy_project/lib/python3.6/site-packages/tensorflow/python/framework/dtypes.py:518: FutureWarning: Passing (type, 1) or '1type' as a synonym of type is deprecated; in a future version of numpy, it will be understood as (type, (1,)) / '(1,)type'.\n",
      "  _np_qint16 = np.dtype([(\"qint16\", np.int16, 1)])\n",
      "/Users/gray/.pyenv/versions/3.6.5/envs/zzy_project/lib/python3.6/site-packages/tensorflow/python/framework/dtypes.py:519: FutureWarning: Passing (type, 1) or '1type' as a synonym of type is deprecated; in a future version of numpy, it will be understood as (type, (1,)) / '(1,)type'.\n",
      "  _np_quint16 = np.dtype([(\"quint16\", np.uint16, 1)])\n",
      "/Users/gray/.pyenv/versions/3.6.5/envs/zzy_project/lib/python3.6/site-packages/tensorflow/python/framework/dtypes.py:520: FutureWarning: Passing (type, 1) or '1type' as a synonym of type is deprecated; in a future version of numpy, it will be understood as (type, (1,)) / '(1,)type'.\n",
      "  _np_qint32 = np.dtype([(\"qint32\", np.int32, 1)])\n",
      "/Users/gray/.pyenv/versions/3.6.5/envs/zzy_project/lib/python3.6/site-packages/tensorflow/python/framework/dtypes.py:525: FutureWarning: Passing (type, 1) or '1type' as a synonym of type is deprecated; in a future version of numpy, it will be understood as (type, (1,)) / '(1,)type'.\n",
      "  np_resource = np.dtype([(\"resource\", np.ubyte, 1)])\n",
      "/Users/gray/.pyenv/versions/3.6.5/envs/zzy_project/lib/python3.6/site-packages/tensorboard/compat/tensorflow_stub/dtypes.py:541: FutureWarning: Passing (type, 1) or '1type' as a synonym of type is deprecated; in a future version of numpy, it will be understood as (type, (1,)) / '(1,)type'.\n",
      "  _np_qint8 = np.dtype([(\"qint8\", np.int8, 1)])\n",
      "/Users/gray/.pyenv/versions/3.6.5/envs/zzy_project/lib/python3.6/site-packages/tensorboard/compat/tensorflow_stub/dtypes.py:542: FutureWarning: Passing (type, 1) or '1type' as a synonym of type is deprecated; in a future version of numpy, it will be understood as (type, (1,)) / '(1,)type'.\n",
      "  _np_quint8 = np.dtype([(\"quint8\", np.uint8, 1)])\n",
      "/Users/gray/.pyenv/versions/3.6.5/envs/zzy_project/lib/python3.6/site-packages/tensorboard/compat/tensorflow_stub/dtypes.py:543: FutureWarning: Passing (type, 1) or '1type' as a synonym of type is deprecated; in a future version of numpy, it will be understood as (type, (1,)) / '(1,)type'.\n",
      "  _np_qint16 = np.dtype([(\"qint16\", np.int16, 1)])\n",
      "/Users/gray/.pyenv/versions/3.6.5/envs/zzy_project/lib/python3.6/site-packages/tensorboard/compat/tensorflow_stub/dtypes.py:544: FutureWarning: Passing (type, 1) or '1type' as a synonym of type is deprecated; in a future version of numpy, it will be understood as (type, (1,)) / '(1,)type'.\n",
      "  _np_quint16 = np.dtype([(\"quint16\", np.uint16, 1)])\n",
      "/Users/gray/.pyenv/versions/3.6.5/envs/zzy_project/lib/python3.6/site-packages/tensorboard/compat/tensorflow_stub/dtypes.py:545: FutureWarning: Passing (type, 1) or '1type' as a synonym of type is deprecated; in a future version of numpy, it will be understood as (type, (1,)) / '(1,)type'.\n",
      "  _np_qint32 = np.dtype([(\"qint32\", np.int32, 1)])\n",
      "/Users/gray/.pyenv/versions/3.6.5/envs/zzy_project/lib/python3.6/site-packages/tensorboard/compat/tensorflow_stub/dtypes.py:550: FutureWarning: Passing (type, 1) or '1type' as a synonym of type is deprecated; in a future version of numpy, it will be understood as (type, (1,)) / '(1,)type'.\n",
      "  np_resource = np.dtype([(\"resource\", np.ubyte, 1)])\n",
      "Using TensorFlow backend.\n"
     ]
    }
   ],
   "source": [
    "## Necessary packages\n",
    "\n",
    "import tensorflow as tf\n",
    "\n",
    "import keras\n",
    "\n",
    "\n",
    "import matplotlib.pyplot as plt\n",
    "import os\n",
    "import numpy as np\n",
    "import pandas as pd\n",
    "# from sklearn.preprocessing import normalize\n",
    "import cv2"
   ]
  },
  {
   "cell_type": "markdown",
   "metadata": {},
   "source": [
    "Verifying that GPU is available"
   ]
  },
  {
   "cell_type": "code",
   "execution_count": 2,
   "metadata": {},
   "outputs": [
    {
     "name": "stdout",
     "output_type": "stream",
     "text": [
      "[name: \"/device:CPU:0\"\n",
      "device_type: \"CPU\"\n",
      "memory_limit: 268435456\n",
      "locality {\n",
      "}\n",
      "incarnation: 3857344920986472689\n",
      "]\n"
     ]
    }
   ],
   "source": [
    "from tensorflow.python.client import device_lib\n",
    "print(device_lib.list_local_devices())"
   ]
  },
  {
   "cell_type": "markdown",
   "metadata": {},
   "source": [
    "## 1. Data preprossing"
   ]
  },
  {
   "cell_type": "code",
   "execution_count": 3,
   "metadata": {},
   "outputs": [],
   "source": [
    "train_path = \"/Users/gray/Desktop/zzy_project/dataset2-master/dataset2-master/images/TRAIN\"\n",
    "test_path = \"/Users/gray/Desktop/zzy_project/dataset2-master/dataset2-master/images/TEST/\""
   ]
  },
  {
   "cell_type": "code",
   "execution_count": 4,
   "metadata": {},
   "outputs": [],
   "source": [
    "# train_path = \"C:/Users/JT/Desktop/CU Boulder/DS Club/TRAIN/\"\n",
    "# test_path = \"C:/Users/JT/Desktop/CU Boulder/DS Club/TEST/\""
   ]
  },
  {
   "cell_type": "markdown",
   "metadata": {},
   "source": [
    "Reading in the image data"
   ]
  },
  {
   "cell_type": "code",
   "execution_count": 5,
   "metadata": {},
   "outputs": [],
   "source": [
    "X_train = []\n",
    "y_train = []\n",
    "train_fnames = []\n",
    "\n",
    "for wbctype in os.listdir(train_path):\n",
    "    for file in os.listdir(os.path.join(train_path,wbctype)): #cycle through the different folders\n",
    "        X_train.append(cv2.imread(train_path+wbctype+\"/\"+file)) #read in image file and store image\n",
    "        y_train.append(wbctype)                                 #store WBC type\n",
    "        train_fnames.append(train_path+wbctype+\"/\"+file)        #store file path\n",
    "        \n",
    "X_train = np.asarray(X_train)\n",
    "y_train = np.asarray(y_train)\n",
    "train_fnames = np.asarray(train_fnames)"
   ]
  },
  {
   "cell_type": "code",
   "execution_count": null,
   "metadata": {},
   "outputs": [],
   "source": []
  },
  {
   "cell_type": "code",
   "execution_count": 6,
   "metadata": {},
   "outputs": [
    {
     "ename": "TypeError",
     "evalue": "Image data of dtype object cannot be converted to float",
     "output_type": "error",
     "traceback": [
      "\u001b[0;31m---------------------------------------------------------------------------\u001b[0m",
      "\u001b[0;31mTypeError\u001b[0m                                 Traceback (most recent call last)",
      "\u001b[0;32m<ipython-input-6-3f9e2bedf71f>\u001b[0m in \u001b[0;36m<module>\u001b[0;34m\u001b[0m\n\u001b[1;32m      5\u001b[0m \u001b[0mplt\u001b[0m\u001b[0;34m.\u001b[0m\u001b[0msubplot\u001b[0m\u001b[0;34m(\u001b[0m\u001b[0;36m221\u001b[0m\u001b[0;34m)\u001b[0m\u001b[0;34m\u001b[0m\u001b[0m\n\u001b[1;32m      6\u001b[0m \u001b[0mplt\u001b[0m\u001b[0;34m.\u001b[0m\u001b[0mtitle\u001b[0m\u001b[0;34m(\u001b[0m\u001b[0my_train\u001b[0m\u001b[0;34m[\u001b[0m\u001b[0;36m0\u001b[0m\u001b[0;34m]\u001b[0m\u001b[0;34m)\u001b[0m\u001b[0;34m\u001b[0m\u001b[0m\n\u001b[0;32m----> 7\u001b[0;31m \u001b[0mplt\u001b[0m\u001b[0;34m.\u001b[0m\u001b[0mimshow\u001b[0m\u001b[0;34m(\u001b[0m\u001b[0mX_train\u001b[0m\u001b[0;34m[\u001b[0m\u001b[0;36m0\u001b[0m\u001b[0;34m]\u001b[0m\u001b[0;34m)\u001b[0m\u001b[0;34m;\u001b[0m\u001b[0;34m\u001b[0m\u001b[0m\n\u001b[0m\u001b[1;32m      8\u001b[0m \u001b[0;34m\u001b[0m\u001b[0m\n\u001b[1;32m      9\u001b[0m \u001b[0mplt\u001b[0m\u001b[0;34m.\u001b[0m\u001b[0msubplot\u001b[0m\u001b[0;34m(\u001b[0m\u001b[0;36m222\u001b[0m\u001b[0;34m)\u001b[0m\u001b[0;34m\u001b[0m\u001b[0m\n",
      "\u001b[0;32m~/.pyenv/versions/3.6.5/envs/zzy_project/lib/python3.6/site-packages/matplotlib/pyplot.py\u001b[0m in \u001b[0;36mimshow\u001b[0;34m(X, cmap, norm, aspect, interpolation, alpha, vmin, vmax, origin, extent, shape, filternorm, filterrad, imlim, resample, url, data, **kwargs)\u001b[0m\n\u001b[1;32m   2649\u001b[0m         \u001b[0mfilternorm\u001b[0m\u001b[0;34m=\u001b[0m\u001b[0mfilternorm\u001b[0m\u001b[0;34m,\u001b[0m \u001b[0mfilterrad\u001b[0m\u001b[0;34m=\u001b[0m\u001b[0mfilterrad\u001b[0m\u001b[0;34m,\u001b[0m \u001b[0mimlim\u001b[0m\u001b[0;34m=\u001b[0m\u001b[0mimlim\u001b[0m\u001b[0;34m,\u001b[0m\u001b[0;34m\u001b[0m\u001b[0m\n\u001b[1;32m   2650\u001b[0m         resample=resample, url=url, **({\"data\": data} if data is not\n\u001b[0;32m-> 2651\u001b[0;31m         None else {}), **kwargs)\n\u001b[0m\u001b[1;32m   2652\u001b[0m     \u001b[0msci\u001b[0m\u001b[0;34m(\u001b[0m\u001b[0m__ret\u001b[0m\u001b[0;34m)\u001b[0m\u001b[0;34m\u001b[0m\u001b[0m\n\u001b[1;32m   2653\u001b[0m     \u001b[0;32mreturn\u001b[0m \u001b[0m__ret\u001b[0m\u001b[0;34m\u001b[0m\u001b[0m\n",
      "\u001b[0;32m~/.pyenv/versions/3.6.5/envs/zzy_project/lib/python3.6/site-packages/matplotlib/__init__.py\u001b[0m in \u001b[0;36minner\u001b[0;34m(ax, data, *args, **kwargs)\u001b[0m\n\u001b[1;32m   1563\u001b[0m     \u001b[0;32mdef\u001b[0m \u001b[0minner\u001b[0m\u001b[0;34m(\u001b[0m\u001b[0max\u001b[0m\u001b[0;34m,\u001b[0m \u001b[0;34m*\u001b[0m\u001b[0margs\u001b[0m\u001b[0;34m,\u001b[0m \u001b[0mdata\u001b[0m\u001b[0;34m=\u001b[0m\u001b[0;32mNone\u001b[0m\u001b[0;34m,\u001b[0m \u001b[0;34m**\u001b[0m\u001b[0mkwargs\u001b[0m\u001b[0;34m)\u001b[0m\u001b[0;34m:\u001b[0m\u001b[0;34m\u001b[0m\u001b[0m\n\u001b[1;32m   1564\u001b[0m         \u001b[0;32mif\u001b[0m \u001b[0mdata\u001b[0m \u001b[0;32mis\u001b[0m \u001b[0;32mNone\u001b[0m\u001b[0;34m:\u001b[0m\u001b[0;34m\u001b[0m\u001b[0m\n\u001b[0;32m-> 1565\u001b[0;31m             \u001b[0;32mreturn\u001b[0m \u001b[0mfunc\u001b[0m\u001b[0;34m(\u001b[0m\u001b[0max\u001b[0m\u001b[0;34m,\u001b[0m \u001b[0;34m*\u001b[0m\u001b[0mmap\u001b[0m\u001b[0;34m(\u001b[0m\u001b[0msanitize_sequence\u001b[0m\u001b[0;34m,\u001b[0m \u001b[0margs\u001b[0m\u001b[0;34m)\u001b[0m\u001b[0;34m,\u001b[0m \u001b[0;34m**\u001b[0m\u001b[0mkwargs\u001b[0m\u001b[0;34m)\u001b[0m\u001b[0;34m\u001b[0m\u001b[0m\n\u001b[0m\u001b[1;32m   1566\u001b[0m \u001b[0;34m\u001b[0m\u001b[0m\n\u001b[1;32m   1567\u001b[0m         \u001b[0mbound\u001b[0m \u001b[0;34m=\u001b[0m \u001b[0mnew_sig\u001b[0m\u001b[0;34m.\u001b[0m\u001b[0mbind\u001b[0m\u001b[0;34m(\u001b[0m\u001b[0max\u001b[0m\u001b[0;34m,\u001b[0m \u001b[0;34m*\u001b[0m\u001b[0margs\u001b[0m\u001b[0;34m,\u001b[0m \u001b[0;34m**\u001b[0m\u001b[0mkwargs\u001b[0m\u001b[0;34m)\u001b[0m\u001b[0;34m\u001b[0m\u001b[0m\n",
      "\u001b[0;32m~/.pyenv/versions/3.6.5/envs/zzy_project/lib/python3.6/site-packages/matplotlib/cbook/deprecation.py\u001b[0m in \u001b[0;36mwrapper\u001b[0;34m(*args, **kwargs)\u001b[0m\n\u001b[1;32m    356\u001b[0m                 \u001b[0;34mf\"%(removal)s.  If any parameter follows {name!r}, they \"\u001b[0m\u001b[0;34m\u001b[0m\u001b[0m\n\u001b[1;32m    357\u001b[0m                 f\"should be pass as keyword, not positionally.\")\n\u001b[0;32m--> 358\u001b[0;31m         \u001b[0;32mreturn\u001b[0m \u001b[0mfunc\u001b[0m\u001b[0;34m(\u001b[0m\u001b[0;34m*\u001b[0m\u001b[0margs\u001b[0m\u001b[0;34m,\u001b[0m \u001b[0;34m**\u001b[0m\u001b[0mkwargs\u001b[0m\u001b[0;34m)\u001b[0m\u001b[0;34m\u001b[0m\u001b[0m\n\u001b[0m\u001b[1;32m    359\u001b[0m \u001b[0;34m\u001b[0m\u001b[0m\n\u001b[1;32m    360\u001b[0m     \u001b[0;32mreturn\u001b[0m \u001b[0mwrapper\u001b[0m\u001b[0;34m\u001b[0m\u001b[0m\n",
      "\u001b[0;32m~/.pyenv/versions/3.6.5/envs/zzy_project/lib/python3.6/site-packages/matplotlib/cbook/deprecation.py\u001b[0m in \u001b[0;36mwrapper\u001b[0;34m(*args, **kwargs)\u001b[0m\n\u001b[1;32m    356\u001b[0m                 \u001b[0;34mf\"%(removal)s.  If any parameter follows {name!r}, they \"\u001b[0m\u001b[0;34m\u001b[0m\u001b[0m\n\u001b[1;32m    357\u001b[0m                 f\"should be pass as keyword, not positionally.\")\n\u001b[0;32m--> 358\u001b[0;31m         \u001b[0;32mreturn\u001b[0m \u001b[0mfunc\u001b[0m\u001b[0;34m(\u001b[0m\u001b[0;34m*\u001b[0m\u001b[0margs\u001b[0m\u001b[0;34m,\u001b[0m \u001b[0;34m**\u001b[0m\u001b[0mkwargs\u001b[0m\u001b[0;34m)\u001b[0m\u001b[0;34m\u001b[0m\u001b[0m\n\u001b[0m\u001b[1;32m    359\u001b[0m \u001b[0;34m\u001b[0m\u001b[0m\n\u001b[1;32m    360\u001b[0m     \u001b[0;32mreturn\u001b[0m \u001b[0mwrapper\u001b[0m\u001b[0;34m\u001b[0m\u001b[0m\n",
      "\u001b[0;32m~/.pyenv/versions/3.6.5/envs/zzy_project/lib/python3.6/site-packages/matplotlib/axes/_axes.py\u001b[0m in \u001b[0;36mimshow\u001b[0;34m(self, X, cmap, norm, aspect, interpolation, alpha, vmin, vmax, origin, extent, shape, filternorm, filterrad, imlim, resample, url, **kwargs)\u001b[0m\n\u001b[1;32m   5613\u001b[0m                               resample=resample, **kwargs)\n\u001b[1;32m   5614\u001b[0m \u001b[0;34m\u001b[0m\u001b[0m\n\u001b[0;32m-> 5615\u001b[0;31m         \u001b[0mim\u001b[0m\u001b[0;34m.\u001b[0m\u001b[0mset_data\u001b[0m\u001b[0;34m(\u001b[0m\u001b[0mX\u001b[0m\u001b[0;34m)\u001b[0m\u001b[0;34m\u001b[0m\u001b[0m\n\u001b[0m\u001b[1;32m   5616\u001b[0m         \u001b[0mim\u001b[0m\u001b[0;34m.\u001b[0m\u001b[0mset_alpha\u001b[0m\u001b[0;34m(\u001b[0m\u001b[0malpha\u001b[0m\u001b[0;34m)\u001b[0m\u001b[0;34m\u001b[0m\u001b[0m\n\u001b[1;32m   5617\u001b[0m         \u001b[0;32mif\u001b[0m \u001b[0mim\u001b[0m\u001b[0;34m.\u001b[0m\u001b[0mget_clip_path\u001b[0m\u001b[0;34m(\u001b[0m\u001b[0;34m)\u001b[0m \u001b[0;32mis\u001b[0m \u001b[0;32mNone\u001b[0m\u001b[0;34m:\u001b[0m\u001b[0;34m\u001b[0m\u001b[0m\n",
      "\u001b[0;32m~/.pyenv/versions/3.6.5/envs/zzy_project/lib/python3.6/site-packages/matplotlib/image.py\u001b[0m in \u001b[0;36mset_data\u001b[0;34m(self, A)\u001b[0m\n\u001b[1;32m    692\u001b[0m                 not np.can_cast(self._A.dtype, float, \"same_kind\")):\n\u001b[1;32m    693\u001b[0m             raise TypeError(\"Image data of dtype {} cannot be converted to \"\n\u001b[0;32m--> 694\u001b[0;31m                             \"float\".format(self._A.dtype))\n\u001b[0m\u001b[1;32m    695\u001b[0m \u001b[0;34m\u001b[0m\u001b[0m\n\u001b[1;32m    696\u001b[0m         if not (self._A.ndim == 2\n",
      "\u001b[0;31mTypeError\u001b[0m: Image data of dtype object cannot be converted to float"
     ]
    },
    {
     "data": {
      "image/png": "[encoded data removed]",
      "text/plain": [
       "<Figure size 720x720 with 4 Axes>"
      ]
     },
     "metadata": {
      "needs_background": "light"
     },
     "output_type": "display_data"
    }
   ],
   "source": [
    "from PIL import Image\n",
    "\n",
    "fig, axs = plt.subplots(2, 2, figsize=(10, 10))\n",
    "\n",
    "plt.subplot(221)\n",
    "plt.title(y_train[0])\n",
    "plt.imshow(X_train[0]); \n",
    "\n",
    "plt.subplot(222)\n",
    "plt.title(y_train[3000])\n",
    "plt.imshow(X_train[3000]); \n",
    "\n",
    "plt.subplot(223)\n",
    "plt.title(y_train[5000])\n",
    "plt.imshow(X_train[5000]); \n",
    "\n",
    "plt.subplot(224)\n",
    "plt.title(y_train[8000])\n",
    "plt.imshow(X_train[8000]); \n",
    "\n",
    "sample_images = X_train[[0,3000,5000,8000],:]\n",
    "sample_labels = y_train[[0,3000,5000,8000]]"
   ]
  },
  {
   "cell_type": "markdown",
   "metadata": {},
   "source": [
    "Normalizing the image data. There are several techniques that can be used, such as normalizing across each image or normalizing across the entire training dataset. I'm first going to explore normalization across the entire dataset."
   ]
  },
  {
   "cell_type": "code",
   "execution_count": 130,
   "metadata": {},
   "outputs": [
    {
     "name": "stdout",
     "output_type": "stream",
     "text": [
      "Found 9957 images belonging to 4 classes.\n"
     ]
    }
   ],
   "source": [
    "datagen = keras.preprocessing.image.ImageDataGenerator(rescale=1/255, featurewise_center=True)\n",
    "\n",
    "processed_dataset = datagen.flow_from_directory(\n",
    "    shuffle= True,\n",
    "    batch_size= 32,\n",
    "    target_size= (80,80), \n",
    "#     directory= 'C:/Users/JT/Desktop/CU Boulder/DS Club/TRAIN'\n",
    "    directory= '/Users/gray/Desktop/zzy_project/dataset2-master/dataset2-master/images/TRAIN'\n",
    ")\n",
    "\n",
    "# datagen.fit(X_train) #machinelearningmastery.com ImageDataGenerator for more info\n",
    "# datagen.fit(processed_dataset)"
   ]
  },
  {
   "cell_type": "code",
   "execution_count": 131,
   "metadata": {},
   "outputs": [
    {
     "data": {
      "text/plain": [
       "<keras.preprocessing.image.DirectoryIterator at 0x1d0762da0>"
      ]
     },
     "execution_count": 131,
     "metadata": {},
     "output_type": "execute_result"
    }
   ],
   "source": [
    "processed_dataset"
   ]
  },
  {
   "cell_type": "markdown",
   "metadata": {},
   "source": [
    "What does a normalized image look like? Let's use the normalization we applied to the entire dataset to just look at our sample images above."
   ]
  },
  {
   "cell_type": "markdown",
   "metadata": {},
   "source": [
    "## 2. NN training"
   ]
  },
  {
   "cell_type": "code",
   "execution_count": 239,
   "metadata": {},
   "outputs": [
    {
     "name": "stderr",
     "output_type": "stream",
     "text": [
      "/Users/gray/.pyenv/versions/3.6.5/envs/zzy_project/lib/python3.6/site-packages/keras_preprocessing/image/image_data_generator.py:716: UserWarning: This ImageDataGenerator specifies `featurewise_center`, but it hasn't been fit on any training data. Fit it first by calling `.fit(numpy_data)`.\n",
      "  warnings.warn('This ImageDataGenerator specifies '\n"
     ]
    },
    {
     "name": "stdout",
     "output_type": "stream",
     "text": [
      "Epoch 1/30\n",
      "312/312 [==============================] - 190s 611ms/step - loss: 1.2794 - accuracy: 0.4155\n",
      "Epoch 2/30\n",
      "312/312 [==============================] - 174s 556ms/step - loss: 0.8567 - accuracy: 0.6322\n",
      "Epoch 3/30\n",
      "312/312 [==============================] - 173s 554ms/step - loss: 0.5516 - accuracy: 0.7743\n",
      "Epoch 4/30\n",
      "312/312 [==============================] - 173s 556ms/step - loss: 0.3643 - accuracy: 0.8579\n",
      "Epoch 5/30\n",
      "312/312 [==============================] - 166s 531ms/step - loss: 0.2424 - accuracy: 0.9067\n",
      "Epoch 6/30\n",
      "312/312 [==============================] - 164s 525ms/step - loss: 0.1576 - accuracy: 0.9441\n",
      "Epoch 7/30\n",
      "312/312 [==============================] - 162s 518ms/step - loss: 0.1033 - accuracy: 0.9629\n",
      "Epoch 8/30\n",
      "312/312 [==============================] - 162s 518ms/step - loss: 0.0757 - accuracy: 0.9750\n",
      "Epoch 9/30\n",
      "312/312 [==============================] - 239s 767ms/step - loss: 0.0512 - accuracy: 0.9841\n",
      "Epoch 10/30\n",
      "312/312 [==============================] - 184s 590ms/step - loss: 0.0462 - accuracy: 0.9864\n",
      "Epoch 11/30\n",
      "312/312 [==============================] - 189s 607ms/step - loss: 0.0342 - accuracy: 0.9887\n",
      "Epoch 12/30\n",
      "312/312 [==============================] - 164s 526ms/step - loss: 0.0457 - accuracy: 0.9891\n",
      "Epoch 13/30\n",
      "312/312 [==============================] - 210s 673ms/step - loss: 0.0374 - accuracy: 0.9885\n",
      "Epoch 14/30\n",
      "312/312 [==============================] - 259s 831ms/step - loss: 0.0253 - accuracy: 0.9937\n",
      "Epoch 15/30\n",
      "312/312 [==============================] - 249s 798ms/step - loss: 0.0251 - accuracy: 0.9926\n",
      "Epoch 16/30\n",
      "312/312 [==============================] - 252s 807ms/step - loss: 0.0208 - accuracy: 0.9944\n",
      "Epoch 17/30\n",
      "312/312 [==============================] - 234s 751ms/step - loss: 0.0127 - accuracy: 0.9957\n",
      "Epoch 18/30\n",
      "312/312 [==============================] - 232s 745ms/step - loss: 0.0164 - accuracy: 0.9953\n",
      "Epoch 19/30\n",
      "312/312 [==============================] - 255s 818ms/step - loss: 0.0129 - accuracy: 0.9959\n",
      "Epoch 20/30\n",
      "312/312 [==============================] - 241s 772ms/step - loss: 0.0080 - accuracy: 0.9972\n",
      "Epoch 21/30\n",
      "312/312 [==============================] - 232s 743ms/step - loss: 0.0083 - accuracy: 0.9974\n",
      "Epoch 22/30\n",
      "312/312 [==============================] - 237s 761ms/step - loss: 0.0115 - accuracy: 0.9962\n",
      "Epoch 23/30\n",
      "312/312 [==============================] - 234s 751ms/step - loss: 0.0095 - accuracy: 0.9972\n",
      "Epoch 24/30\n",
      "312/312 [==============================] - 247s 791ms/step - loss: 0.0039 - accuracy: 0.9982\n",
      "Epoch 25/30\n",
      "312/312 [==============================] - 306s 982ms/step - loss: 0.0171 - accuracy: 0.9957\n",
      "Epoch 26/30\n",
      "312/312 [==============================] - 281s 901ms/step - loss: 0.0389 - accuracy: 0.9935\n",
      "Epoch 27/30\n",
      "312/312 [==============================] - 253s 812ms/step - loss: 0.0104 - accuracy: 0.9964\n",
      "Epoch 28/30\n",
      "312/312 [==============================] - 251s 805ms/step - loss: 0.0126 - accuracy: 0.9962\n",
      "Epoch 29/30\n",
      "312/312 [==============================] - 251s 806ms/step - loss: 0.0044 - accuracy: 0.9989\n",
      "Epoch 30/30\n",
      "312/312 [==============================] - 222s 713ms/step - loss: 0.0054 - accuracy: 0.9986\n"
     ]
    }
   ],
   "source": [
    "from keras.models import Sequential\n",
    "from keras.layers import Dense, Conv2D, Dropout, MaxPool2D, Flatten, BatchNormalization\n",
    "from keras.preprocessing import image\n",
    "from PIL import Image\n",
    "\n",
    "# def model():\n",
    "#     model = Sequential()\n",
    "#     model.add(Conv2D(80, (4,4), strides = (1, 1), activation = 'relu', input_shape = (80, 80, 3)))\n",
    "    \n",
    "# #     model.add(Conv2D(64, (4,4), strides = (1, 1), activation = 'relu', input_shape = (80, 80, 3)))\n",
    "#     model.add(BatchNormalization())\n",
    "    \n",
    "#     model.add(MaxPool2D(pool_size = (2,2)))\n",
    "\n",
    "#     model.add(Dropout(0.5))\n",
    "#     model.add(Flatten())\n",
    "\n",
    "#     model.add(Dense(32, activation = 'relu'))\n",
    "#     model.add(Dense(16, activation = 'relu'))\n",
    "#     model.add(Dense(8, activation = 'relu'))\n",
    "#     model.add(Dense(4, activation = 'softmax'))\n",
    "\n",
    "#     model.compile(loss = 'categorical_crossentropy', optimizer = 'adadelta', metrics = ['accuracy'])\n",
    "    \n",
    "#     return model\n",
    "\n",
    "\n",
    "def model():\n",
    "    model = Sequential()\n",
    "    model.add(Conv2D(80, (3,3), strides = (1, 1), activation = 'relu', input_shape = (80, 80, 3)))\n",
    "    model.add(MaxPool2D(pool_size = (3,3)))\n",
    "    model.add(BatchNormalization())\n",
    "    model.add(Dropout(0.2))\n",
    "    model.add(Conv2D(64, (3,3), strides = (1,1), activation = 'relu'))\n",
    "#     model.add(Conv2D(32, 8, strides = (1,1), activation = 'relu'))\n",
    "#     model.add(Conv2D(32, 8, strides = (1,1), activation = 'relu'))\n",
    "    model.add(Dropout(0.2))\n",
    "    model.add(Flatten())\n",
    "\n",
    "\n",
    "    model.add(Dense(128, activation = 'relu'))\n",
    "#     model.add(Dropout(0.25))\n",
    "    model.add(Dense(64, activation = 'relu'))\n",
    "#     model.add(Dropout(0.25))\n",
    "    model.add(Dense(4, activation = 'softmax'))\n",
    "\n",
    "    model.compile(loss = 'categorical_crossentropy', optimizer = 'adadelta', metrics = ['accuracy'])\n",
    "    \n",
    "    return model\n",
    "\n",
    "\n",
    "nn = model()\n",
    "nn.fit_generator(processed_dataset, steps_per_epoch = None, epochs = 30, verbose = 1)\n",
    "nn.save('Model.h5')"
   ]
  },
  {
   "cell_type": "code",
   "execution_count": 240,
   "metadata": {
    "scrolled": true
   },
   "outputs": [
    {
     "name": "stdout",
     "output_type": "stream",
     "text": [
      "Model: \"sequential_27\"\n",
      "_________________________________________________________________\n",
      "Layer (type)                 Output Shape              Param #   \n",
      "=================================================================\n",
      "conv2d_59 (Conv2D)           (None, 78, 78, 80)        2240      \n",
      "_________________________________________________________________\n",
      "max_pooling2d_29 (MaxPooling (None, 26, 26, 80)        0         \n",
      "_________________________________________________________________\n",
      "batch_normalization_31 (Batc (None, 26, 26, 80)        320       \n",
      "_________________________________________________________________\n",
      "dropout_73 (Dropout)         (None, 26, 26, 80)        0         \n",
      "_________________________________________________________________\n",
      "conv2d_60 (Conv2D)           (None, 24, 24, 64)        46144     \n",
      "_________________________________________________________________\n",
      "dropout_74 (Dropout)         (None, 24, 24, 64)        0         \n",
      "_________________________________________________________________\n",
      "flatten_27 (Flatten)         (None, 36864)             0         \n",
      "_________________________________________________________________\n",
      "dense_79 (Dense)             (None, 128)               4718720   \n",
      "_________________________________________________________________\n",
      "dense_80 (Dense)             (None, 64)                8256      \n",
      "_________________________________________________________________\n",
      "dense_81 (Dense)             (None, 4)                 260       \n",
      "=================================================================\n",
      "Total params: 4,775,940\n",
      "Trainable params: 4,775,780\n",
      "Non-trainable params: 160\n",
      "_________________________________________________________________\n",
      "None\n"
     ]
    },
    {
     "data": {
      "image/png": "[encoded data removed]",
      "text/plain": [
       "<IPython.core.display.Image object>"
      ]
     },
     "execution_count": 240,
     "metadata": {},
     "output_type": "execute_result"
    }
   ],
   "source": [
    "from keras.utils.vis_utils import plot_model\n",
    "# https://machinelearningmastery.com/visualize-deep-learning-neural-network-model-keras/\n",
    "\n",
    "print(nn.summary())\n",
    "plot_model(nn, to_file='model_plot.png', show_shapes=True, show_layer_names=True)"
   ]
  },
  {
   "cell_type": "markdown",
   "metadata": {},
   "source": [
    "## 3. Training performance"
   ]
  },
  {
   "cell_type": "code",
   "execution_count": 241,
   "metadata": {},
   "outputs": [],
   "source": [
    "from keras.models import load_model\n",
    "import numpy\n",
    "import os\n",
    "from PIL import Image\n",
    "\n",
    "model = load_model('Model.h5')\n",
    "\n",
    "def training_acc(path):\n",
    "    correct = 0\n",
    "    wrong = 0\n",
    "    total = 0\n",
    "\n",
    "    cell_type = path.split('/')[-1]\n",
    "    \n",
    "    tag = -1\n",
    "    if cell_type == 'EOSINOPHIL':\n",
    "        tag = 0\n",
    "    elif cell_type == 'LYMPHOCYTE':\n",
    "        tag = 1\n",
    "    elif cell_type == 'MONOCYTE':\n",
    "        tag = 2\n",
    "    elif cell_type == 'NEUTROPHIL':\n",
    "        tag = 3\n",
    "    \n",
    "    if tag == -1:\n",
    "        exit(0)\n",
    "    \n",
    "    for file in os.listdir(path):\n",
    "        new_image = Image.open(path + '/'+file)\n",
    "        new_image = new_image.resize((80, 80))\n",
    "        new_image = numpy.array(new_image, dtype = 'float32')\n",
    "        new_image/=255\n",
    "        new_image = new_image.reshape(1, 80, 80, 3)\n",
    "        prediction = model.predict(new_image)\n",
    "        #print(numpy.argmax(prediction))\n",
    "        if numpy.argmax(prediction) == tag: correct+=1\n",
    "        else: wrong+=1\n",
    "        total+=1\n",
    "        \n",
    "    if cell_type == 'EOSINOPHIL':\n",
    "        print('EOSINOPHIL :::: Result : ', 'Correct prediction %: ', (correct/total)*100, 'Wrong prediction : %', (wrong/total)*100)\n",
    "    elif cell_type == 'LYMPHOCYTE':\n",
    "        print('LYMPHOCYTE :::: Result : ', 'Correct prediction %: ', (correct/total)*100, 'Wrong prediction : %', (wrong/total)*100)\n",
    "    elif cell_type == 'MONOCYTE':\n",
    "        print('MONOCYTE :::: Result : ', 'Correct prediction %: ', (correct/total)*100, 'Wrong prediction : %', (wrong/total)*100)\n",
    "    elif cell_type == 'NEUTROPHIL':\n",
    "        print('NEUTROPHIL ::: Result : ', 'Correct prediction %: ', (correct/total)*100, 'Wrong prediction : %', (wrong/total)*100)\n",
    "    else:\n",
    "        print(\"ERRoR:???\")\n",
    "\n",
    "def test_acc(path):\n",
    "    correct = 0\n",
    "    wrong = 0\n",
    "    total = 0\n",
    "\n",
    "    cell_type = path.split('/')[-1]\n",
    "    \n",
    "    tag = -1\n",
    "    if cell_type == 'EOSINOPHIL':\n",
    "        tag = 0\n",
    "    elif cell_type == 'LYMPHOCYTE':\n",
    "        tag = 1\n",
    "    elif cell_type == 'MONOCYTE':\n",
    "        tag = 2\n",
    "    elif cell_type == 'NEUTROPHIL':\n",
    "        tag = 3\n",
    "    \n",
    "    if tag == -1:\n",
    "        exit(0)\n",
    "    \n",
    "    for file in os.listdir(path):\n",
    "        new_image = Image.open(path + '/'+file)\n",
    "        new_image = new_image.resize((80, 80))\n",
    "        new_image = numpy.array(new_image, dtype = 'float32')\n",
    "        new_image/=255\n",
    "        new_image = new_image.reshape(1, 80, 80, 3)\n",
    "        prediction = model.predict(new_image)\n",
    "        #print(numpy.argmax(prediction))\n",
    "        if numpy.argmax(prediction) == tag: correct+=1\n",
    "        else: wrong+=1\n",
    "        total+=1\n",
    "        \n",
    "    if cell_type == 'EOSINOPHIL':\n",
    "        print('EOSINOPHIL :::: Result : ', 'Correct prediction %: ', (correct/total)*100, 'Wrong prediction : %', (wrong/total)*100)\n",
    "    elif cell_type == 'LYMPHOCYTE':\n",
    "        print('LYMPHOCYTE :::: Result : ', 'Correct prediction %: ', (correct/total)*100, 'Wrong prediction : %', (wrong/total)*100)\n",
    "    elif cell_type == 'MONOCYTE':\n",
    "        print('MONOCYTE :::: Result : ', 'Correct prediction %: ', (correct/total)*100, 'Wrong prediction : %', (wrong/total)*100)\n",
    "    elif cell_type == 'NEUTROPHIL':\n",
    "        print('NEUTROPHIL ::: Result : ', 'Correct prediction %: ', (correct/total)*100, 'Wrong prediction : %', (wrong/total)*100)\n",
    "    else:\n",
    "        print(\"ERRoR:???\")"
   ]
  },
  {
   "cell_type": "code",
   "execution_count": 242,
   "metadata": {},
   "outputs": [],
   "source": [
    "path_1 = '/Users/gray/Desktop/zzy_project/dataset2-master/dataset2-master/images/TRAIN_small/EOSINOPHIL'\n",
    "path_2 = '/Users/gray/Desktop/zzy_project/dataset2-master/dataset2-master/images/TRAIN_small/LYMPHOCYTE'\n",
    "path_3 = '/Users/gray/Desktop/zzy_project/dataset2-master/dataset2-master/images/TRAIN_small/MONOCYTE'\n",
    "path_4 = '/Users/gray/Desktop/zzy_project/dataset2-master/dataset2-master/images/TRAIN_small/NEUTROPHIL'"
   ]
  },
  {
   "cell_type": "code",
   "execution_count": 243,
   "metadata": {},
   "outputs": [
    {
     "name": "stdout",
     "output_type": "stream",
     "text": [
      "EOSINOPHIL :::: Result :  Correct prediction %:  100.0 Wrong prediction : % 0.0\n"
     ]
    }
   ],
   "source": [
    "training_acc(path_1)"
   ]
  },
  {
   "cell_type": "code",
   "execution_count": 244,
   "metadata": {},
   "outputs": [
    {
     "name": "stdout",
     "output_type": "stream",
     "text": [
      "LYMPHOCYTE :::: Result :  Correct prediction %:  100.0 Wrong prediction : % 0.0\n"
     ]
    }
   ],
   "source": [
    "training_acc(path_2)"
   ]
  },
  {
   "cell_type": "code",
   "execution_count": 245,
   "metadata": {},
   "outputs": [
    {
     "name": "stdout",
     "output_type": "stream",
     "text": [
      "MONOCYTE :::: Result :  Correct prediction %:  99.83552631578947 Wrong prediction : % 0.1644736842105263\n"
     ]
    }
   ],
   "source": [
    "training_acc(path_3)"
   ]
  },
  {
   "cell_type": "code",
   "execution_count": 246,
   "metadata": {},
   "outputs": [
    {
     "name": "stdout",
     "output_type": "stream",
     "text": [
      "NEUTROPHIL ::: Result :  Correct prediction %:  98.76543209876543 Wrong prediction : % 1.2345679012345678\n"
     ]
    }
   ],
   "source": [
    "training_acc(path_4)"
   ]
  },
  {
   "cell_type": "code",
   "execution_count": null,
   "metadata": {},
   "outputs": [],
   "source": []
  },
  {
   "cell_type": "code",
   "execution_count": null,
   "metadata": {},
   "outputs": [],
   "source": []
  },
  {
   "cell_type": "code",
   "execution_count": 247,
   "metadata": {},
   "outputs": [],
   "source": [
    "test_1 = '/Users/gray/Desktop/zzy_project/dataset2-master/dataset2-master/images/TEST/EOSINOPHIL'\n",
    "test_2 = '/Users/gray/Desktop/zzy_project/dataset2-master/dataset2-master/images/TEST/LYMPHOCYTE'\n",
    "test_3 = '/Users/gray/Desktop/zzy_project/dataset2-master/dataset2-master/images/TEST/MONOCYTE'\n",
    "test_4 = '/Users/gray/Desktop/zzy_project/dataset2-master/dataset2-master/images/TEST/NEUTROPHIL'"
   ]
  },
  {
   "cell_type": "code",
   "execution_count": 248,
   "metadata": {},
   "outputs": [
    {
     "name": "stdout",
     "output_type": "stream",
     "text": [
      "EOSINOPHIL :::: Result :  Correct prediction %:  63.08186195826645 Wrong prediction : % 36.91813804173354\n"
     ]
    }
   ],
   "source": [
    "test_acc(test_1)"
   ]
  },
  {
   "cell_type": "code",
   "execution_count": 249,
   "metadata": {},
   "outputs": [
    {
     "name": "stdout",
     "output_type": "stream",
     "text": [
      "LYMPHOCYTE :::: Result :  Correct prediction %:  63.2258064516129 Wrong prediction : % 36.774193548387096\n"
     ]
    }
   ],
   "source": [
    "test_acc(test_2)"
   ]
  },
  {
   "cell_type": "code",
   "execution_count": 250,
   "metadata": {},
   "outputs": [
    {
     "name": "stdout",
     "output_type": "stream",
     "text": [
      "MONOCYTE :::: Result :  Correct prediction %:  76.61290322580645 Wrong prediction : % 23.387096774193548\n"
     ]
    }
   ],
   "source": [
    "test_acc(test_3)"
   ]
  },
  {
   "cell_type": "code",
   "execution_count": 251,
   "metadata": {},
   "outputs": [
    {
     "name": "stdout",
     "output_type": "stream",
     "text": [
      "NEUTROPHIL ::: Result :  Correct prediction %:  59.77564102564102 Wrong prediction : % 40.22435897435898\n"
     ]
    }
   ],
   "source": [
    "test_acc(test_4)"
   ]
  },
  {
   "cell_type": "code",
   "execution_count": null,
   "metadata": {},
   "outputs": [],
   "source": []
  },
  {
   "cell_type": "code",
   "execution_count": null,
   "metadata": {},
   "outputs": [],
   "source": []
  },
  {
   "cell_type": "code",
   "execution_count": 25,
   "metadata": {},
   "outputs": [
    {
     "name": "stdout",
     "output_type": "stream",
     "text": [
      "LYMPHOCYTE :::: Result :  Correct prediction %:  100.0 Wrong prediction : % 0.0\n"
     ]
    }
   ],
   "source": []
  },
  {
   "cell_type": "code",
   "execution_count": 26,
   "metadata": {},
   "outputs": [
    {
     "name": "stdout",
     "output_type": "stream",
     "text": [
      "MONOCYTE :::: Result :  Correct prediction %:  100.0 Wrong prediction : % 0.0\n"
     ]
    }
   ],
   "source": []
  },
  {
   "cell_type": "code",
   "execution_count": 27,
   "metadata": {},
   "outputs": [
    {
     "name": "stdout",
     "output_type": "stream",
     "text": [
      "NEUTROPHIL ::: Result :  Correct prediction %:  99.95998399359743 Wrong prediction : % 0.040016006402561026\n"
     ]
    }
   ],
   "source": []
  },
  {
   "cell_type": "code",
   "execution_count": null,
   "metadata": {},
   "outputs": [],
   "source": []
  },
  {
   "cell_type": "code",
   "execution_count": 34,
   "metadata": {},
   "outputs": [
    {
     "name": "stdout",
     "output_type": "stream",
     "text": [
      "LYMPHOCYTE :::: Result :  Correct prediction %:  98.06451612903226 Wrong prediction : % 1.935483870967742\n",
      "MONOCYTE :::: Result :  Correct prediction %:  76.77419354838709 Wrong prediction : % 23.225806451612904\n",
      "NEUTROPHIL ::: Result :  Correct prediction %:  78.36538461538461 Wrong prediction : % 21.634615384615387\n",
      "EOSINOPHIL ::: Result :  Correct prediction %:  67.57624398073835 Wrong prediction : % 32.42375601926163\n"
     ]
    }
   ],
   "source": [
    "#demo code check for LYMPHOCYTE\n",
    "\n",
    "correct = 0\n",
    "wrong = 0\n",
    "total = 0\n",
    "\n",
    "for file in os.listdir('C:/Users/JT/Desktop/CU Boulder/DS Club/TEST/LYMPHOCYTE'):\n",
    "  image = Image.open('C:/Users/JT/Desktop/CU Boulder/DS Club/TEST/LYMPHOCYTE/'+file)\n",
    "  image = image.resize((80, 80))\n",
    "  image = numpy.array(image, dtype = 'float32')\n",
    "  image/=255\n",
    "  image = image.reshape(1, 80, 80, 3)\n",
    "  prediction = model.predict(image)\n",
    "  #print(numpy.argmax(prediction))\n",
    "  if numpy.argmax(prediction) == 1: correct+=1\n",
    "  else: wrong+=1\n",
    "  total+=1\n",
    "\n",
    "print('LYMPHOCYTE :::: Result : ', 'Correct prediction %: ', (correct/total)*100, 'Wrong prediction : %', (wrong/total)*100)\n",
    "\n",
    "#demo code check for MONOCYTE\n",
    "\n",
    "correct = 0\n",
    "wrong = 0\n",
    "total = 0\n",
    "\n",
    "for file in os.listdir('C:/Users/JT/Desktop/CU Boulder/DS Club/TEST/MONOCYTE'):\n",
    "  image = Image.open('C:/Users/JT/Desktop/CU Boulder/DS Club/TEST/MONOCYTE/'+file)\n",
    "  image = image.resize((80, 80))\n",
    "  image = numpy.array(image, dtype = 'float32')\n",
    "  image/=255\n",
    "  image = image.reshape(1, 80, 80, 3)\n",
    "  prediction = model.predict(image)\n",
    "  #print(numpy.argmax(prediction))\n",
    "  if numpy.argmax(prediction) == 2: correct+=1\n",
    "  else: wrong+=1\n",
    "  total+=1\n",
    "\n",
    "print('MONOCYTE :::: Result : ', 'Correct prediction %: ', (correct/total)*100, 'Wrong prediction : %', (wrong/total)*100)\n",
    "\n",
    "\n",
    "#demo code check for NEUTROPHIL\n",
    "\n",
    "correct = 0\n",
    "wrong = 0\n",
    "total = 0\n",
    "\n",
    "for file in os.listdir('C:/Users/JT/Desktop/CU Boulder/DS Club/TEST/NEUTROPHIL'):\n",
    "  image = Image.open('C:/Users/JT/Desktop/CU Boulder/DS Club/TEST/NEUTROPHIL/'+file)\n",
    "  image = image.resize((80, 80))\n",
    "  image = numpy.array(image, dtype = 'float32')\n",
    "  image/=255\n",
    "  image = image.reshape(1, 80, 80, 3)\n",
    "  prediction = model.predict(image)\n",
    "  #print(numpy.argmax(prediction))\n",
    "  if numpy.argmax(prediction) == 3: correct+=1\n",
    "  else: wrong+=1\n",
    "  total+=1\n",
    "\n",
    "print('NEUTROPHIL ::: Result : ', 'Correct prediction %: ', (correct/total)*100, 'Wrong prediction : %', (wrong/total)*100)\n",
    "\n",
    "correct = 0\n",
    "wrong = 0\n",
    "total = 0\n",
    "\n",
    "for file in os.listdir('C:/Users/JT/Desktop/CU Boulder/DS Club/TEST/EOSINOPHIL'):\n",
    "  image = Image.open('C:/Users/JT/Desktop/CU Boulder/DS Club/TEST/EOSINOPHIL/'+file)\n",
    "  image = image.resize((80, 80))\n",
    "  image = numpy.array(image, dtype = 'float32')\n",
    "  image/=255\n",
    "  image = image.reshape(1, 80, 80, 3)\n",
    "  prediction = model.predict(image)\n",
    "  #print(numpy.argmax(prediction))\n",
    "  if numpy.argmax(prediction) == 0: correct+=1\n",
    "  else: wrong+=1\n",
    "  total+=1\n",
    "print('EOSINOPHIL ::: Result : ', 'Correct prediction %: ', (correct/total)*100, 'Wrong prediction : %', (wrong/total)*100)\n"
   ]
  },
  {
   "cell_type": "code",
   "execution_count": null,
   "metadata": {},
   "outputs": [],
   "source": [
    "# sample_batch = datagen.flow(sample_images, sample_labels, batch_size=32, shuffle=False)"
   ]
  },
  {
   "cell_type": "code",
   "execution_count": null,
   "metadata": {},
   "outputs": [],
   "source": [
    "# fig, axs = plt.subplots(2, 2, figsize=(10, 10))\n",
    "\n",
    "# for i in np.arange(4):\n",
    "#     plt.subplot(220+(i+1))\n",
    "#     plt.title(sample_batch[0][1][i]) \n",
    "#     plt.imshow((sample_batch[0][0][i]*255).astype(np.uint8))"
   ]
  },
  {
   "cell_type": "code",
   "execution_count": null,
   "metadata": {},
   "outputs": [],
   "source": [
    "# no_noise = []\n",
    "# for i in range(len(sample_images)):\n",
    "#     blur = cv2.GaussianBlur(sample_batch[0][1][i], (5, 5), 0)\n",
    "#     no_noise.append(blur)\n",
    "\n",
    "# fig, axs = plt.subplots(2, 1, figsize=(10, 10))\n",
    "    \n",
    "# image = no_noise[1]\n",
    "# plt.subplot(211)\n",
    "# plt.imshow(image)\n",
    "\n",
    "# plt.subplot(212)\n",
    "# plt.imshow(sample_images[1])"
   ]
  },
  {
   "cell_type": "markdown",
   "metadata": {},
   "source": [
    "Next, let's separate our background from our foreground (in this case our cell(s) of interest)."
   ]
  },
  {
   "cell_type": "code",
   "execution_count": null,
   "metadata": {},
   "outputs": [],
   "source": [
    "# # Segmentation\n",
    "# fig, axs = plt.subplots(2, 2, figsize=(10, 10))\n",
    "\n",
    "# for i in np.arange(4):\n",
    "#     gray = cv2.cvtColor(sample_batch[0][0][i], cv2.COLOR_RGB2GRAY).astype('uint8')\n",
    "# #    gray = cv2.GaussianBlur(gray, (5, 5), 0)\n",
    "#     gray = cv2.bilateralFilter(gray,9,75,75)\n",
    "\n",
    "#     ret, thresh = cv2.threshold(gray, 0, 255, cv2.THRESH_BINARY_INV + cv2.THRESH_OTSU)\n",
    "#     #ret, thresh = cv2.AdaptiveThreshold()\n",
    "\n",
    "#     plt.subplot(220+(i+1))\n",
    "#     plt.title(sample_batch[0][1][i]) \n",
    "#     plt.imshow(gray)"
   ]
  },
  {
   "cell_type": "code",
   "execution_count": null,
   "metadata": {},
   "outputs": [],
   "source": [
    "# # Segmentation\n",
    "# fig, axs = plt.subplots(2, 2, figsize=(10, 10))\n",
    "\n",
    "# for i in np.arange(4):\n",
    "#     gray = cv2.cvtColor(sample_batch[0][0][i], cv2.COLOR_RGB2GRAY).astype('uint8')\n",
    "#     #gray = cv2.GaussianBlur(gray, (5, 5), 0)\n",
    "\n",
    "#     ret, thresh = cv2.threshold(gray, 0, 255, cv2.THRESH_BINARY_INV + cv2.THRESH_OTSU)\n",
    "#     #ret, thresh = cv2.AdaptiveThreshold()\n",
    "\n",
    "#     plt.subplot(220+(i+1))\n",
    "#     plt.title(sample_batch[0][1][i]) \n",
    "#     plt.imshow(gray)"
   ]
  },
  {
   "cell_type": "code",
   "execution_count": null,
   "metadata": {},
   "outputs": [],
   "source": []
  },
  {
   "cell_type": "code",
   "execution_count": null,
   "metadata": {},
   "outputs": [],
   "source": []
  }
 ],
 "metadata": {
  "kernelspec": {
   "display_name": "Python 3",
   "language": "python",
   "name": "python3"
  },
  "language_info": {
   "codemirror_mode": {
    "name": "ipython",
    "version": 3
   },
   "file_extension": ".py",
   "mimetype": "text/x-python",
   "name": "python",
   "nbconvert_exporter": "python",
   "pygments_lexer": "ipython3",
   "version": "3.6.10"
  }
 },
 "nbformat": 4,
 "nbformat_minor": 4
}
